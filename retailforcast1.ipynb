{
 "cells": [
  {
   "cell_type": "code",
   "execution_count": 1,
   "id": "b78207e8-d167-4ef1-a4f5-0b6d1bebddd7",
   "metadata": {},
   "outputs": [],
   "source": [
    "import warnings\n",
    "warnings.filterwarnings(\"ignore\")\n"
   ]
  },
  {
   "cell_type": "code",
   "execution_count": 3,
   "id": "0dba196e-22cd-4c8b-96bc-937651d012de",
   "metadata": {},
   "outputs": [],
   "source": [
    "import os\n",
    "from pathlib import Path\n",
    "import pandas as pd\n",
    "import numpy as np\n",
    "import matplotlib.pyplot as plt\n",
    "from sklearn.metrics import mean_squared_error, mean_absolute_error\n",
    "from statsmodels.tsa.statespace.sarimax import SARIMAX\n",
    "import joblib"
   ]
  },
  {
   "cell_type": "code",
   "execution_count": 12,
   "id": "13435260-0762-47d3-9e13-d9733cf153b5",
   "metadata": {},
   "outputs": [],
   "source": [
    "FILE_PATH = r\"C:\\Users\\B.CHANDRIKA\\OneDrive\\Documents\\Desktop\\walmart.csv\"   \n",
    "DATE_COL = \"Date\"\n",
    "SALES_COL = \"Weekly_Sales\"\n",
    "STORE_COL = \"Store\"\n",
    "EXOG_COLS = [\"Holiday_Flag\"]   \n",
    "WEEKLY_FREQ = \"W-MON\"\n",
    "TEST_WEEKS = 12\n",
    "TOP_N_STORES = 5\n",
    "OUTPUT_DIR = \"forecast_outputs\"\n",
    "os.makedirs(OUTPUT_DIR, exist_ok=True)"
   ]
  },
  {
   "cell_type": "code",
   "execution_count": 13,
   "id": "cc6b947b-64e2-4d79-a26c-9ab532ec9f06",
   "metadata": {},
   "outputs": [],
   "source": [
    "pd.options.display.max_columns = 50\n",
    "plt.rcParams[\"figure.figsize\"] = (12, 4)"
   ]
  },
  {
   "cell_type": "code",
   "execution_count": 14,
   "id": "9ce3e3bb-56ce-4824-9ccd-4e5b610efcb1",
   "metadata": {},
   "outputs": [],
   "source": [
    "def load_data(path):\n",
    "    path = Path(path)\n",
    "    if not path.exists():\n",
    "        raise FileNotFoundError(f\"CSV not found at: {path}\")\n",
    "    df = pd.read_csv(path)\n",
    "    df.columns = [c.strip() for c in df.columns]\n",
    "    if DATE_COL not in df.columns:\n",
    "        raise ValueError(f\"Expected a date column named '{DATE_COL}'. Found columns: {df.columns.tolist()}\")\n",
    "    df[DATE_COL] = pd.to_datetime(df[DATE_COL], errors=\"coerce\")\n",
    "    df = df.dropna(subset=[DATE_COL]).sort_values(DATE_COL).reset_index(drop=True)\n",
    "    return df"
   ]
  },
  {
   "cell_type": "code",
   "execution_count": 15,
   "id": "66f386b5-ac34-449a-b6f8-fbf25ec20196",
   "metadata": {},
   "outputs": [],
   "source": [
    "def ensure_weekly_index(df):\n",
    "    # Requires datetime index\n",
    "    return df.asfreq(WEEKLY_FREQ)\n"
   ]
  },
  {
   "cell_type": "code",
   "execution_count": 16,
   "id": "1290aecb-b149-407f-882c-e349ec18895d",
   "metadata": {},
   "outputs": [],
   "source": [
    "def evaluate(actual, pred):\n",
    "    eps = 1e-9\n",
    "    rmse = np.sqrt(mean_squared_error(actual, pred))\n",
    "    mae = mean_absolute_error(actual, pred)\n",
    "    mape = (np.mean(np.abs((actual - pred) / (actual + eps))) * 100)\n",
    "    return {\"RMSE\": float(rmse), \"MAE\": float(mae), \"MAPE(%)\": float(mape)}"
   ]
  },
  {
   "cell_type": "code",
   "execution_count": 17,
   "id": "a1a8d58f-cbc5-423f-9240-71e7c1ab63ec",
   "metadata": {},
   "outputs": [],
   "source": [
    "def plot_series(index, values, title=\"Time series\", label=None):\n",
    "    plt.plot(index, values, label=label if label else \"\")\n",
    "    plt.title(title)\n",
    "    plt.xlabel(\"Date\")\n",
    "    plt.tight_layout()"
   ]
  },
  {
   "cell_type": "code",
   "execution_count": 18,
   "id": "9dce0257-0070-4add-ae6b-53145c48dd93",
   "metadata": {},
   "outputs": [
    {
     "name": "stdout",
     "output_type": "stream",
     "text": [
      "Data loaded: C:\\Users\\B.CHANDRIKA\\OneDrive\\Documents\\Desktop\\walmart.csv\n",
      "Shape: (2565, 8)\n",
      "\n",
      "Columns: ['Store', 'Date', 'Weekly_Sales', 'Holiday_Flag', 'Temperature', 'Fuel_Price', 'CPI', 'Unemployment']\n",
      "\n",
      "Missing values:\n",
      "Store           0\n",
      "Date            0\n",
      "Weekly_Sales    0\n",
      "Holiday_Flag    0\n",
      "Temperature     0\n",
      "Fuel_Price      0\n",
      "CPI             0\n",
      "Unemployment    0\n",
      "dtype: int64\n"
     ]
    }
   ],
   "source": [
    "df = load_data(FILE_PATH)\n",
    "print(\"Data loaded:\", FILE_PATH)\n",
    "print(\"Shape:\", df.shape)\n",
    "print(\"\\nColumns:\", df.columns.tolist())\n",
    "print(\"\\nMissing values:\")\n",
    "print(df.isna().sum())\n"
   ]
  },
  {
   "cell_type": "code",
   "execution_count": 19,
   "id": "35969041-0c62-4a12-9031-935bca989b62",
   "metadata": {},
   "outputs": [
    {
     "data": {
      "text/html": [
       "<div>\n",
       "<style scoped>\n",
       "    .dataframe tbody tr th:only-of-type {\n",
       "        vertical-align: middle;\n",
       "    }\n",
       "\n",
       "    .dataframe tbody tr th {\n",
       "        vertical-align: top;\n",
       "    }\n",
       "\n",
       "    .dataframe thead th {\n",
       "        text-align: right;\n",
       "    }\n",
       "</style>\n",
       "<table border=\"1\" class=\"dataframe\">\n",
       "  <thead>\n",
       "    <tr style=\"text-align: right;\">\n",
       "      <th></th>\n",
       "      <th>count</th>\n",
       "      <th>mean</th>\n",
       "      <th>min</th>\n",
       "      <th>25%</th>\n",
       "      <th>50%</th>\n",
       "      <th>75%</th>\n",
       "      <th>max</th>\n",
       "      <th>std</th>\n",
       "    </tr>\n",
       "  </thead>\n",
       "  <tbody>\n",
       "    <tr>\n",
       "      <th>Store</th>\n",
       "      <td>2565.0</td>\n",
       "      <td>23.0</td>\n",
       "      <td>1.0</td>\n",
       "      <td>12.0</td>\n",
       "      <td>23.0</td>\n",
       "      <td>34.0</td>\n",
       "      <td>45.0</td>\n",
       "      <td>12.989706</td>\n",
       "    </tr>\n",
       "    <tr>\n",
       "      <th>Date</th>\n",
       "      <td>2565</td>\n",
       "      <td>2011-05-29 11:47:22.105263104</td>\n",
       "      <td>2010-01-10 00:00:00</td>\n",
       "      <td>2010-10-09 00:00:00</td>\n",
       "      <td>2011-05-08 00:00:00</td>\n",
       "      <td>2012-02-03 00:00:00</td>\n",
       "      <td>2012-12-10 00:00:00</td>\n",
       "      <td>NaN</td>\n",
       "    </tr>\n",
       "    <tr>\n",
       "      <th>Weekly_Sales</th>\n",
       "      <td>2565.0</td>\n",
       "      <td>1059871.952441</td>\n",
       "      <td>209986.25</td>\n",
       "      <td>570069.48</td>\n",
       "      <td>981345.2</td>\n",
       "      <td>1450733.29</td>\n",
       "      <td>2752122.08</td>\n",
       "      <td>557383.102302</td>\n",
       "    </tr>\n",
       "    <tr>\n",
       "      <th>Holiday_Flag</th>\n",
       "      <td>2565.0</td>\n",
       "      <td>0.105263</td>\n",
       "      <td>0.0</td>\n",
       "      <td>0.0</td>\n",
       "      <td>0.0</td>\n",
       "      <td>0.0</td>\n",
       "      <td>1.0</td>\n",
       "      <td>0.306952</td>\n",
       "    </tr>\n",
       "    <tr>\n",
       "      <th>Temperature</th>\n",
       "      <td>2565.0</td>\n",
       "      <td>59.585864</td>\n",
       "      <td>-2.06</td>\n",
       "      <td>45.26</td>\n",
       "      <td>61.1</td>\n",
       "      <td>74.57</td>\n",
       "      <td>100.07</td>\n",
       "      <td>19.069276</td>\n",
       "    </tr>\n",
       "    <tr>\n",
       "      <th>Fuel_Price</th>\n",
       "      <td>2565.0</td>\n",
       "      <td>3.329579</td>\n",
       "      <td>2.513</td>\n",
       "      <td>2.868</td>\n",
       "      <td>3.417</td>\n",
       "      <td>3.702</td>\n",
       "      <td>4.468</td>\n",
       "      <td>0.461985</td>\n",
       "    </tr>\n",
       "    <tr>\n",
       "      <th>CPI</th>\n",
       "      <td>2565.0</td>\n",
       "      <td>171.386349</td>\n",
       "      <td>126.085452</td>\n",
       "      <td>131.586613</td>\n",
       "      <td>182.598306</td>\n",
       "      <td>212.512605</td>\n",
       "      <td>227.169392</td>\n",
       "      <td>39.293112</td>\n",
       "    </tr>\n",
       "    <tr>\n",
       "      <th>Unemployment</th>\n",
       "      <td>2565.0</td>\n",
       "      <td>8.022267</td>\n",
       "      <td>3.879</td>\n",
       "      <td>6.908</td>\n",
       "      <td>7.907</td>\n",
       "      <td>8.622</td>\n",
       "      <td>14.313</td>\n",
       "      <td>1.878158</td>\n",
       "    </tr>\n",
       "  </tbody>\n",
       "</table>\n",
       "</div>"
      ],
      "text/plain": [
       "               count                           mean                  min  \\\n",
       "Store         2565.0                           23.0                  1.0   \n",
       "Date            2565  2011-05-29 11:47:22.105263104  2010-01-10 00:00:00   \n",
       "Weekly_Sales  2565.0                 1059871.952441            209986.25   \n",
       "Holiday_Flag  2565.0                       0.105263                  0.0   \n",
       "Temperature   2565.0                      59.585864                -2.06   \n",
       "Fuel_Price    2565.0                       3.329579                2.513   \n",
       "CPI           2565.0                     171.386349           126.085452   \n",
       "Unemployment  2565.0                       8.022267                3.879   \n",
       "\n",
       "                              25%                  50%                  75%  \\\n",
       "Store                        12.0                 23.0                 34.0   \n",
       "Date          2010-10-09 00:00:00  2011-05-08 00:00:00  2012-02-03 00:00:00   \n",
       "Weekly_Sales            570069.48             981345.2           1450733.29   \n",
       "Holiday_Flag                  0.0                  0.0                  0.0   \n",
       "Temperature                 45.26                 61.1                74.57   \n",
       "Fuel_Price                  2.868                3.417                3.702   \n",
       "CPI                    131.586613           182.598306           212.512605   \n",
       "Unemployment                6.908                7.907                8.622   \n",
       "\n",
       "                              max            std  \n",
       "Store                        45.0      12.989706  \n",
       "Date          2012-12-10 00:00:00            NaN  \n",
       "Weekly_Sales           2752122.08  557383.102302  \n",
       "Holiday_Flag                  1.0       0.306952  \n",
       "Temperature                100.07      19.069276  \n",
       "Fuel_Price                  4.468       0.461985  \n",
       "CPI                    227.169392      39.293112  \n",
       "Unemployment               14.313       1.878158  "
      ]
     },
     "metadata": {},
     "output_type": "display_data"
    }
   ],
   "source": [
    "display(df.describe().T)"
   ]
  },
  {
   "cell_type": "code",
   "execution_count": 20,
   "id": "d25f0a07-2d1e-4806-82e8-c2ffdf81be16",
   "metadata": {},
   "outputs": [
    {
     "name": "stdout",
     "output_type": "stream",
     "text": [
      "Aggregated weekly shape: (153, 2)\n"
     ]
    },
    {
     "data": {
      "text/html": [
       "<div>\n",
       "<style scoped>\n",
       "    .dataframe tbody tr th:only-of-type {\n",
       "        vertical-align: middle;\n",
       "    }\n",
       "\n",
       "    .dataframe tbody tr th {\n",
       "        vertical-align: top;\n",
       "    }\n",
       "\n",
       "    .dataframe thead th {\n",
       "        text-align: right;\n",
       "    }\n",
       "</style>\n",
       "<table border=\"1\" class=\"dataframe\">\n",
       "  <thead>\n",
       "    <tr style=\"text-align: right;\">\n",
       "      <th></th>\n",
       "      <th>Total_Weekly_Sales</th>\n",
       "      <th>Holiday_Flag</th>\n",
       "    </tr>\n",
       "    <tr>\n",
       "      <th>Date</th>\n",
       "      <th></th>\n",
       "      <th></th>\n",
       "    </tr>\n",
       "  </thead>\n",
       "  <tbody>\n",
       "    <tr>\n",
       "      <th>2010-01-11</th>\n",
       "      <td>0.0</td>\n",
       "      <td>0.0</td>\n",
       "    </tr>\n",
       "    <tr>\n",
       "      <th>2010-01-18</th>\n",
       "      <td>0.0</td>\n",
       "      <td>0.0</td>\n",
       "    </tr>\n",
       "    <tr>\n",
       "      <th>2010-01-25</th>\n",
       "      <td>0.0</td>\n",
       "      <td>0.0</td>\n",
       "    </tr>\n",
       "    <tr>\n",
       "      <th>2010-02-01</th>\n",
       "      <td>0.0</td>\n",
       "      <td>0.0</td>\n",
       "    </tr>\n",
       "    <tr>\n",
       "      <th>2010-02-08</th>\n",
       "      <td>0.0</td>\n",
       "      <td>0.0</td>\n",
       "    </tr>\n",
       "    <tr>\n",
       "      <th>2010-02-15</th>\n",
       "      <td>0.0</td>\n",
       "      <td>0.0</td>\n",
       "    </tr>\n",
       "    <tr>\n",
       "      <th>2010-02-22</th>\n",
       "      <td>0.0</td>\n",
       "      <td>0.0</td>\n",
       "    </tr>\n",
       "    <tr>\n",
       "      <th>2010-03-01</th>\n",
       "      <td>0.0</td>\n",
       "      <td>0.0</td>\n",
       "    </tr>\n",
       "  </tbody>\n",
       "</table>\n",
       "</div>"
      ],
      "text/plain": [
       "            Total_Weekly_Sales  Holiday_Flag\n",
       "Date                                        \n",
       "2010-01-11                 0.0           0.0\n",
       "2010-01-18                 0.0           0.0\n",
       "2010-01-25                 0.0           0.0\n",
       "2010-02-01                 0.0           0.0\n",
       "2010-02-08                 0.0           0.0\n",
       "2010-02-15                 0.0           0.0\n",
       "2010-02-22                 0.0           0.0\n",
       "2010-03-01                 0.0           0.0"
      ]
     },
     "metadata": {},
     "output_type": "display_data"
    }
   ],
   "source": [
    "agg_total = df.groupby(DATE_COL).agg({\n",
    "    SALES_COL: \"sum\",\n",
    "    **({col: \"max\" for col in EXOG_COLS if col in df.columns})\n",
    "}).rename(columns={SALES_COL: \"Total_Weekly_Sales\"})\n",
    "\n",
    "# align to weekly frequency (Monday-based)\n",
    "agg_total = ensure_weekly_index(agg_total)\n",
    "agg_total[\"Total_Weekly_Sales\"] = agg_total[\"Total_Weekly_Sales\"].fillna(0)\n",
    "for c in EXOG_COLS:\n",
    "    if c in agg_total.columns:\n",
    "        agg_total[c] = agg_total[c].fillna(0)\n",
    "\n",
    "print(\"Aggregated weekly shape:\", agg_total.shape)\n",
    "display(agg_total.head(8))\n"
   ]
  },
  {
   "cell_type": "code",
   "execution_count": 21,
   "id": "6e344047-4c94-45c9-8024-156eedb6e66b",
   "metadata": {},
   "outputs": [
    {
     "data": {
      "image/png": "[encoded data removed]",
      "text/plain": [
       "<Figure size 1400x400 with 1 Axes>"
      ]
     },
     "metadata": {},
     "output_type": "display_data"
    }
   ],
   "source": [
    "plt.figure(figsize=(14,4))\n",
    "plot_series(agg_total.index, agg_total[\"Total_Weekly_Sales\"], title=\"Total Weekly Sales (All Stores)\")\n",
    "plt.show()"
   ]
  },
  {
   "cell_type": "code",
   "execution_count": 32,
   "id": "bea8dc83-8820-410f-8302-06d6c1b0fae7",
   "metadata": {},
   "outputs": [],
   "source": [
    "\n",
    "  def baseline_forecasts(series, agg_df, test_weeks=12):\n",
    "    train = series.iloc[:-test_weeks]\n",
    "    test = series.iloc[-test_weeks:]\n",
    "    results = {}\n",
    "\n",
    "    # 1) Naive (last observed)\n",
    "    last_val = float(train.iloc[-1])\n",
    "    naive_forecast = pd.Series([last_val] * test_weeks, index=test.index)\n",
    "    results[\"naive\"] = {\n",
    "        \"forecast\": naive_forecast,\n",
    "        \"metrics\": evaluate(test.values, naive_forecast.values)\n",
    "    }\n",
    "\n",
    "    # 2) Seasonal naive (lag 24 weeks)\n",
    "    seasonal_forecast = []\n",
    "    for idx in test.index:\n",
    "        lag_date = idx - pd.DateOffset(weeks=24)\n",
    "        if lag_date in agg_df.index:\n",
    "            seasonal_forecast.append(float(agg_df.loc[lag_date, agg_df.columns[0]]))\n",
    "        else:\n",
    "            seasonal_forecast.append(last_val)\n",
    "    seasonal_forecast = pd.Series(seasonal_forecast, index=test.index)\n",
    "    results[\"seasonal_naive\"] = {\n",
    "        \"forecast\": seasonal_forecast,\n",
    "        \"metrics\": evaluate(test.values, seasonal_forecast.values)\n",
    "    }\n",
    "\n",
    "    # 3) Rolling mean (last 4 weeks)\n",
    "    rolling_mean_val = float(train.iloc[-4:].mean())\n",
    "    rolling_forecast = pd.Series([rolling_mean_val] * test_weeks, index=test.index)\n",
    "    results[\"rolling_4wk\"] = {\n",
    "        \"forecast\": rolling_forecast,\n",
    "        \"metrics\": evaluate(test.values, rolling_forecast.values)\n",
    "    }\n",
    "\n",
    "    return train, test, results"
   ]
  },
  {
   "cell_type": "code",
   "execution_count": 33,
   "id": "3fa785e9-0e6a-4aea-86f9-66123a499e52",
   "metadata": {},
   "outputs": [
    {
     "name": "stdout",
     "output_type": "stream",
     "text": [
      "Baseline metrics (last 12 weeks):\n",
      "- naive: {'RMSE': 23411117.5804685, 'MAE': 11704820.356666667, 'MAPE(%)': 25.0}\n",
      "- seasonal_naive: {'RMSE': 28046780.741960842, 'MAE': 16163346.679166667, 'MAPE(%)': 4.4585263224999994e+17}\n",
      "- rolling_4wk: {'RMSE': 20275722.64105541, 'MAE': 17639877.120416667, 'MAPE(%)': 8.902585145625e+17}\n"
     ]
    },
    {
     "data": {
      "image/png": "[encoded data removed]",
      "text/plain": [
       "<Figure size 1400x500 with 1 Axes>"
      ]
     },
     "metadata": {},
     "output_type": "display_data"
    }
   ],
   "source": [
    "series = agg_total[\"Total_Weekly_Sales\"]\n",
    "train, test, baselines = baseline_forecasts(series, agg_total)\n",
    "\n",
    "print(\"Baseline metrics (last {} weeks):\".format(TEST_WEEKS))\n",
    "for name, out in baselines.items():\n",
    "    print(f\"- {name}: {out['metrics']}\")\n",
    "\n",
    "# Plot seasonal-naive\n",
    "plt.figure(figsize=(14,5))\n",
    "plt.plot(train.index, train.values, label=\"History\")\n",
    "plt.plot(test.index, test.values, marker='o', label=\"Actual\")\n",
    "plt.plot(baselines['seasonal_naive']['forecast'].index,\n",
    "         baselines['seasonal_naive']['forecast'].values,\n",
    "         marker='o', label=\"Seasonal-Naive (lag 52)\")\n",
    "plt.title(\"Baseline Forecast vs Actual\")\n",
    "plt.legend()\n",
    "plt.show()\n"
   ]
  },
  {
   "cell_type": "code",
   "execution_count": 34,
   "id": "1cb8ceb2-c794-4cb4-a8f1-666b65f58217",
   "metadata": {},
   "outputs": [],
   "source": [
    "def fit_sarimax(train_series, steps, exog_train=None, exog_forecast=None,\n",
    "                order=(1,0,1), seasonal_order=(1,1,1,52), maxiter=100):\n",
    "    try:\n",
    "        model = SARIMAX(train_series, exog=exog_train, order=order,\n",
    "                        seasonal_order=seasonal_order,\n",
    "                        enforce_stationarity=False, enforce_invertibility=False)\n",
    "        res = model.fit(disp=False, maxiter=maxiter)\n",
    "        forecast_obj = res.get_forecast(steps=steps, exog=exog_forecast)\n",
    "        pred_mean = forecast_obj.predicted_mean\n",
    "        pred_ci = forecast_obj.conf_int()\n",
    "        return res, pred_mean, pred_ci\n",
    "    except Exception as e:\n",
    "        print(\"SARIMAX fit failed:\", e)\n",
    "        return None, None, None"
   ]
  },
  {
   "cell_type": "code",
   "execution_count": 41,
   "id": "53ddda00-c000-4df1-a752-69c3828e6f99",
   "metadata": {},
   "outputs": [
    {
     "name": "stdout",
     "output_type": "stream",
     "text": [
      "Fitting SARIMAX (may take some seconds)...\n",
      "SARIMAX metrics: {'RMSE': 23411107.70685643, 'MAE': 11705020.62207553, 'MAPE(%)': 20514570737347.35}\n"
     ]
    },
    {
     "data": {
      "image/png": "[encoded data removed]",
      "text/plain": [
       "<Figure size 1400x500 with 1 Axes>"
      ]
     },
     "metadata": {},
     "output_type": "display_data"
    },
    {
     "name": "stdout",
     "output_type": "stream",
     "text": [
      "Saved SARIMAX model at forecast_outputs\\sarimax_total_weekly.pkl\n"
     ]
    }
   ],
   "source": [
    "train_series = series.iloc[:-TEST_WEEKS]\n",
    "test_series = series.iloc[-TEST_WEEKS:]\n",
    "exog_present = [c for c in EXOG_COLS if c in agg_total.columns]\n",
    "exog = agg_total[exog_present] if exog_present else None\n",
    "exog_train = exog.iloc[:-TEST_WEEKS] if exog is not None else None\n",
    "exog_test = exog.iloc[-TEST_WEEKS:] if exog is not None else None\n",
    "\n",
    "print(\"Fitting SARIMAX (may take some seconds)...\")\n",
    "res, pred_mean, pred_ci = fit_sarimax(train_series, steps=TEST_WEEKS,\n",
    "                                      exog_train=exog_train, exog_forecast=exog_test,\n",
    "                                      order=(1,0,1), seasonal_order=(1,1,1,52))\n",
    "if res is not None:\n",
    "    sarimax_metrics = evaluate(test_series.values, pred_mean.values)\n",
    "    print(\"SARIMAX metrics:\", sarimax_metrics)\n",
    "\n",
    "    plt.figure(figsize=(14,5))\n",
    "    plt.plot(train_series.index, train_series.values, label=\"Train\")\n",
    "    plt.plot(test_series.index, test_series.values, marker='o', label=\"Actual\")\n",
    "    plt.plot(pred_mean.index, pred_mean.values, marker='o', label=\"SARIMAX Forecast\")\n",
    "    plt.fill_between(pred_ci.index, pred_ci.iloc[:,0], pred_ci.iloc[:,1], color='gray', alpha=0.2)\n",
    "    plt.legend()\n",
    "    plt.title(\"SARIMAX Forecast vs Actual (Total Weekly Sales)\")\n",
    "    plt.show()\n",
    "    joblib.dump(res, os.path.join(OUTPUT_DIR, \"sarimax_total_weekly.pkl\"))\n",
    "    print(\"Saved SARIMAX model at\", os.path.join(OUTPUT_DIR, \"sarimax_total_weekly.pkl\"))\n",
    "else:\n",
    "    print(\"SARIMAX model could not be fit — using baseline forecasts instead.\")\n"
   ]
  },
  {
   "cell_type": "code",
   "execution_count": 48,
   "id": "06c2adfd-0323-4490-ab3f-bad4fddfeb3e",
   "metadata": {},
   "outputs": [
    {
     "name": "stdout",
     "output_type": "stream",
     "text": [
      "Top stores: [20, 4, 14, 13, 2]\n",
      "\n",
      ">>> Store: 20\n",
      "\n",
      ">>> Store: 4\n",
      "\n",
      ">>> Store: 14\n",
      "\n",
      ">>> Store: 13\n",
      "\n",
      ">>> Store: 2\n"
     ]
    }
   ],
   "source": [
    "store_sums = df.groupby(STORE_COL)[SALES_COL].sum().sort_values(ascending=False)\n",
    "top_stores = store_sums.head(TOP_N_STORES).index.tolist()\n",
    "print(\"Top stores:\", top_stores)\n",
    "\n",
    "per_store_metrics = []\n",
    "\n",
    "for s in top_stores:\n",
    "    print(\"\\n>>> Store:\", s)\n",
    "    df_s = df[df[STORE_COL] == s].copy()\n",
    "    agg_s = df_s.groupby(DATE_COL).agg({\n",
    "        SALES_COL: \"sum\",\n",
    "        **({c: \"max\" for c in EXOG_COLS if c in df_s.columns})\n",
    "    }).rename(columns={SALES_COL: \"Store_Sales\"})\n",
    "    agg_s = ensure_weekly_index(agg_s)\n",
    "    agg_s[\"Store_Sales\"] = agg_s[\"Store_Sales\"].fillna(0)\n",
    "    for c in EXOG_COLS:\n",
    "        if c in agg_s.columns:\n",
    "            agg_s[c] = agg_s[c].fillna(0)\n",
    "\n",
    "    if len(agg_s) < (TEST_WEEKS + 10):\n",
    "        print(\"  Not enough data for SARIMAX; using seasonal-naive baseline only.\")\n",
    "        _, _, bas = baseline_forecasts(agg_s[\"Store_Sales\"], agg_s, test_weeks=min(TEST_WEEKS, max(4, int(len(agg_s)/4))))\n",
    "        per_store_metrics.append({\"store\": s, \"model\": \"seasonal_naive\", **bas['seasonal_naive']['metrics']})\n",
    "        continue\n",
    "  "
   ]
  },
  {
   "cell_type": "code",
   "execution_count": 60,
   "id": "ef792ae4-38fa-4b01-b1da-b88afd918745",
   "metadata": {},
   "outputs": [
    {
     "name": "stdout",
     "output_type": "stream",
     "text": [
      "Baseline Forecast Comparison:\n",
      "\n",
      "Naive Forecast: {'RMSE': 23411117.5804685, 'MAE': 11704820.356666667, 'MAPE(%)': 25.0}\n",
      "Seasonal Naive Forecast: {'RMSE': 28046780.741960842, 'MAE': 16163346.679166667, 'MAPE(%)': 4.4585263224999994e+17}\n",
      "Rolling 4-week Forecast: {'RMSE': 20275722.64105541, 'MAE': 17639877.120416667, 'MAPE(%)': 8.902585145625e+17}\n"
     ]
    }
   ],
   "source": [
    " naive_metric = baselines['naive']['metrics']\n",
    "seasonal_metric = baselines['seasonal_naive']['metrics']\n",
    "rolling_metric = baselines['rolling_4wk']['metrics']\n",
    "\n",
    "print(\"Baseline Forecast Comparison:\\n\")\n",
    "print(\"Naive Forecast:\", naive_metric)\n",
    "print(\"Seasonal Naive Forecast:\", seasonal_metric)\n",
    "print(\"Rolling 4-week Forecast:\", rolling_metric)"
   ]
  },
  {
   "cell_type": "code",
   "execution_count": 63,
   "id": "2ec0516f-18d3-4475-a960-010e5abb9ddb",
   "metadata": {},
   "outputs": [
    {
     "name": "stdout",
     "output_type": "stream",
     "text": [
      "Aggregated data shape: (57, 45)\n",
      "Number of stores: 45\n"
     ]
    },
    {
     "data": {
      "text/html": [
       "<div>\n",
       "<style scoped>\n",
       "    .dataframe tbody tr th:only-of-type {\n",
       "        vertical-align: middle;\n",
       "    }\n",
       "\n",
       "    .dataframe tbody tr th {\n",
       "        vertical-align: top;\n",
       "    }\n",
       "\n",
       "    .dataframe thead th {\n",
       "        text-align: right;\n",
       "    }\n",
       "</style>\n",
       "<table border=\"1\" class=\"dataframe\">\n",
       "  <thead>\n",
       "    <tr style=\"text-align: right;\">\n",
       "      <th>Store</th>\n",
       "      <th>1</th>\n",
       "      <th>2</th>\n",
       "      <th>3</th>\n",
       "      <th>4</th>\n",
       "      <th>5</th>\n",
       "      <th>6</th>\n",
       "      <th>7</th>\n",
       "      <th>8</th>\n",
       "      <th>9</th>\n",
       "      <th>10</th>\n",
       "      <th>11</th>\n",
       "      <th>12</th>\n",
       "      <th>13</th>\n",
       "      <th>14</th>\n",
       "      <th>15</th>\n",
       "      <th>16</th>\n",
       "      <th>17</th>\n",
       "      <th>18</th>\n",
       "      <th>19</th>\n",
       "      <th>20</th>\n",
       "      <th>21</th>\n",
       "      <th>22</th>\n",
       "      <th>23</th>\n",
       "      <th>24</th>\n",
       "      <th>25</th>\n",
       "      <th>26</th>\n",
       "      <th>27</th>\n",
       "      <th>28</th>\n",
       "      <th>29</th>\n",
       "      <th>30</th>\n",
       "      <th>31</th>\n",
       "      <th>32</th>\n",
       "      <th>33</th>\n",
       "      <th>34</th>\n",
       "      <th>35</th>\n",
       "      <th>36</th>\n",
       "      <th>37</th>\n",
       "      <th>38</th>\n",
       "      <th>39</th>\n",
       "      <th>40</th>\n",
       "      <th>41</th>\n",
       "      <th>42</th>\n",
       "      <th>43</th>\n",
       "      <th>44</th>\n",
       "      <th>45</th>\n",
       "    </tr>\n",
       "    <tr>\n",
       "      <th>Date</th>\n",
       "      <th></th>\n",
       "      <th></th>\n",
       "      <th></th>\n",
       "      <th></th>\n",
       "      <th></th>\n",
       "      <th></th>\n",
       "      <th></th>\n",
       "      <th></th>\n",
       "      <th></th>\n",
       "      <th></th>\n",
       "      <th></th>\n",
       "      <th></th>\n",
       "      <th></th>\n",
       "      <th></th>\n",
       "      <th></th>\n",
       "      <th></th>\n",
       "      <th></th>\n",
       "      <th></th>\n",
       "      <th></th>\n",
       "      <th></th>\n",
       "      <th></th>\n",
       "      <th></th>\n",
       "      <th></th>\n",
       "      <th></th>\n",
       "      <th></th>\n",
       "      <th></th>\n",
       "      <th></th>\n",
       "      <th></th>\n",
       "      <th></th>\n",
       "      <th></th>\n",
       "      <th></th>\n",
       "      <th></th>\n",
       "      <th></th>\n",
       "      <th></th>\n",
       "      <th></th>\n",
       "      <th></th>\n",
       "      <th></th>\n",
       "      <th></th>\n",
       "      <th></th>\n",
       "      <th></th>\n",
       "      <th></th>\n",
       "      <th></th>\n",
       "      <th></th>\n",
       "      <th></th>\n",
       "      <th></th>\n",
       "    </tr>\n",
       "  </thead>\n",
       "  <tbody>\n",
       "    <tr>\n",
       "      <th>2010-01-10</th>\n",
       "      <td>1453329.50</td>\n",
       "      <td>1827440.43</td>\n",
       "      <td>358784.10</td>\n",
       "      <td>1842821.02</td>\n",
       "      <td>283178.12</td>\n",
       "      <td>1328468.89</td>\n",
       "      <td>448998.73</td>\n",
       "      <td>804105.49</td>\n",
       "      <td>495692.19</td>\n",
       "      <td>1645892.97</td>\n",
       "      <td>1182490.46</td>\n",
       "      <td>850936.26</td>\n",
       "      <td>1765584.48</td>\n",
       "      <td>1855703.66</td>\n",
       "      <td>566945.95</td>\n",
       "      <td>463977.54</td>\n",
       "      <td>829207.27</td>\n",
       "      <td>948977.50</td>\n",
       "      <td>1379456.30</td>\n",
       "      <td>1933719.21</td>\n",
       "      <td>677158.39</td>\n",
       "      <td>905987.17</td>\n",
       "      <td>1129909.44</td>\n",
       "      <td>1215273.20</td>\n",
       "      <td>658640.14</td>\n",
       "      <td>923221.52</td>\n",
       "      <td>1543532.83</td>\n",
       "      <td>1203080.41</td>\n",
       "      <td>474698.01</td>\n",
       "      <td>445475.30</td>\n",
       "      <td>1213981.64</td>\n",
       "      <td>1061089.56</td>\n",
       "      <td>224294.39</td>\n",
       "      <td>865709.11</td>\n",
       "      <td>771065.21</td>\n",
       "      <td>422169.47</td>\n",
       "      <td>529877.93</td>\n",
       "      <td>360256.58</td>\n",
       "      <td>1219583.91</td>\n",
       "      <td>891152.33</td>\n",
       "      <td>1109216.35</td>\n",
       "      <td>481523.93</td>\n",
       "      <td>657108.77</td>\n",
       "      <td>300152.45</td>\n",
       "      <td>690007.76</td>\n",
       "    </tr>\n",
       "    <tr>\n",
       "      <th>2010-02-04</th>\n",
       "      <td>1594968.28</td>\n",
       "      <td>2066187.72</td>\n",
       "      <td>423294.40</td>\n",
       "      <td>1979247.12</td>\n",
       "      <td>331406.00</td>\n",
       "      <td>1770333.90</td>\n",
       "      <td>561145.14</td>\n",
       "      <td>914500.91</td>\n",
       "      <td>545206.32</td>\n",
       "      <td>2138651.97</td>\n",
       "      <td>1446210.26</td>\n",
       "      <td>1011822.30</td>\n",
       "      <td>2142482.14</td>\n",
       "      <td>2495630.51</td>\n",
       "      <td>718470.71</td>\n",
       "      <td>490503.69</td>\n",
       "      <td>848521.17</td>\n",
       "      <td>1254107.84</td>\n",
       "      <td>1642970.27</td>\n",
       "      <td>2405395.22</td>\n",
       "      <td>753664.12</td>\n",
       "      <td>1177340.99</td>\n",
       "      <td>1556627.62</td>\n",
       "      <td>1478321.26</td>\n",
       "      <td>822486.37</td>\n",
       "      <td>1029849.20</td>\n",
       "      <td>2053952.97</td>\n",
       "      <td>1441559.40</td>\n",
       "      <td>599629.25</td>\n",
       "      <td>457884.06</td>\n",
       "      <td>1357600.68</td>\n",
       "      <td>1131732.94</td>\n",
       "      <td>274634.52</td>\n",
       "      <td>979428.66</td>\n",
       "      <td>1189556.47</td>\n",
       "      <td>435972.82</td>\n",
       "      <td>540189.70</td>\n",
       "      <td>368929.55</td>\n",
       "      <td>1463942.62</td>\n",
       "      <td>1041202.13</td>\n",
       "      <td>1168826.39</td>\n",
       "      <td>505907.41</td>\n",
       "      <td>650102.80</td>\n",
       "      <td>286197.50</td>\n",
       "      <td>877235.96</td>\n",
       "    </tr>\n",
       "    <tr>\n",
       "      <th>2010-02-07</th>\n",
       "      <td>1492418.14</td>\n",
       "      <td>2003940.64</td>\n",
       "      <td>381151.72</td>\n",
       "      <td>1881337.21</td>\n",
       "      <td>305993.27</td>\n",
       "      <td>1759777.25</td>\n",
       "      <td>575570.77</td>\n",
       "      <td>852333.75</td>\n",
       "      <td>528832.54</td>\n",
       "      <td>1845893.87</td>\n",
       "      <td>1302600.14</td>\n",
       "      <td>951957.31</td>\n",
       "      <td>2018314.71</td>\n",
       "      <td>2334788.42</td>\n",
       "      <td>709337.11</td>\n",
       "      <td>610641.42</td>\n",
       "      <td>958875.37</td>\n",
       "      <td>1257928.35</td>\n",
       "      <td>1549018.68</td>\n",
       "      <td>2143676.77</td>\n",
       "      <td>711470.80</td>\n",
       "      <td>1120259.71</td>\n",
       "      <td>1549113.18</td>\n",
       "      <td>1563387.94</td>\n",
       "      <td>759407.87</td>\n",
       "      <td>1078455.48</td>\n",
       "      <td>2024554.10</td>\n",
       "      <td>1399960.15</td>\n",
       "      <td>581473.55</td>\n",
       "      <td>450337.47</td>\n",
       "      <td>1311704.92</td>\n",
       "      <td>1187988.64</td>\n",
       "      <td>267495.76</td>\n",
       "      <td>919229.36</td>\n",
       "      <td>1245827.08</td>\n",
       "      <td>434252.15</td>\n",
       "      <td>498292.53</td>\n",
       "      <td>361181.48</td>\n",
       "      <td>1352547.70</td>\n",
       "      <td>1087578.78</td>\n",
       "      <td>1273279.79</td>\n",
       "      <td>507168.80</td>\n",
       "      <td>667353.79</td>\n",
       "      <td>300628.19</td>\n",
       "      <td>800147.84</td>\n",
       "    </tr>\n",
       "    <tr>\n",
       "      <th>2010-03-09</th>\n",
       "      <td>1540163.53</td>\n",
       "      <td>1904608.09</td>\n",
       "      <td>366473.97</td>\n",
       "      <td>1935857.58</td>\n",
       "      <td>323798.00</td>\n",
       "      <td>1510925.32</td>\n",
       "      <td>532765.05</td>\n",
       "      <td>899036.47</td>\n",
       "      <td>511049.06</td>\n",
       "      <td>1766331.45</td>\n",
       "      <td>1303914.27</td>\n",
       "      <td>1075758.55</td>\n",
       "      <td>1911852.58</td>\n",
       "      <td>2182563.66</td>\n",
       "      <td>638647.21</td>\n",
       "      <td>542087.89</td>\n",
       "      <td>834373.73</td>\n",
       "      <td>1187359.77</td>\n",
       "      <td>1623519.64</td>\n",
       "      <td>2121561.41</td>\n",
       "      <td>727772.80</td>\n",
       "      <td>1074535.88</td>\n",
       "      <td>1405119.23</td>\n",
       "      <td>1366381.60</td>\n",
       "      <td>685700.08</td>\n",
       "      <td>1037549.71</td>\n",
       "      <td>1908110.90</td>\n",
       "      <td>1523410.71</td>\n",
       "      <td>579272.38</td>\n",
       "      <td>461548.98</td>\n",
       "      <td>1302047.48</td>\n",
       "      <td>1095932.51</td>\n",
       "      <td>237405.82</td>\n",
       "      <td>964356.74</td>\n",
       "      <td>948660.79</td>\n",
       "      <td>431294.45</td>\n",
       "      <td>510427.53</td>\n",
       "      <td>377096.55</td>\n",
       "      <td>1345167.61</td>\n",
       "      <td>976453.34</td>\n",
       "      <td>1223355.50</td>\n",
       "      <td>524658.06</td>\n",
       "      <td>689326.91</td>\n",
       "      <td>295880.12</td>\n",
       "      <td>790144.70</td>\n",
       "    </tr>\n",
       "    <tr>\n",
       "      <th>2010-03-12</th>\n",
       "      <td>1548033.78</td>\n",
       "      <td>2015781.27</td>\n",
       "      <td>476420.77</td>\n",
       "      <td>2102530.17</td>\n",
       "      <td>344490.88</td>\n",
       "      <td>1677067.24</td>\n",
       "      <td>552811.62</td>\n",
       "      <td>952766.93</td>\n",
       "      <td>578164.82</td>\n",
       "      <td>2251206.64</td>\n",
       "      <td>1380522.64</td>\n",
       "      <td>1069533.17</td>\n",
       "      <td>2083379.89</td>\n",
       "      <td>2258489.63</td>\n",
       "      <td>754134.95</td>\n",
       "      <td>512260.59</td>\n",
       "      <td>926573.81</td>\n",
       "      <td>1211026.13</td>\n",
       "      <td>1615987.96</td>\n",
       "      <td>2416051.17</td>\n",
       "      <td>829210.73</td>\n",
       "      <td>1230514.58</td>\n",
       "      <td>1617025.41</td>\n",
       "      <td>1413302.70</td>\n",
       "      <td>885572.96</td>\n",
       "      <td>1016143.64</td>\n",
       "      <td>1884343.67</td>\n",
       "      <td>1447916.29</td>\n",
       "      <td>642678.53</td>\n",
       "      <td>407112.22</td>\n",
       "      <td>1338716.37</td>\n",
       "      <td>1200892.56</td>\n",
       "      <td>209986.25</td>\n",
       "      <td>1001512.21</td>\n",
       "      <td>982598.88</td>\n",
       "      <td>360266.09</td>\n",
       "      <td>508213.14</td>\n",
       "      <td>351925.36</td>\n",
       "      <td>1431910.98</td>\n",
       "      <td>1000582.06</td>\n",
       "      <td>1220115.75</td>\n",
       "      <td>500250.80</td>\n",
       "      <td>557543.62</td>\n",
       "      <td>264214.12</td>\n",
       "      <td>879244.90</td>\n",
       "    </tr>\n",
       "  </tbody>\n",
       "</table>\n",
       "</div>"
      ],
      "text/plain": [
       "Store               1           2          3           4          5   \\\n",
       "Date                                                                   \n",
       "2010-01-10  1453329.50  1827440.43  358784.10  1842821.02  283178.12   \n",
       "2010-02-04  1594968.28  2066187.72  423294.40  1979247.12  331406.00   \n",
       "2010-02-07  1492418.14  2003940.64  381151.72  1881337.21  305993.27   \n",
       "2010-03-09  1540163.53  1904608.09  366473.97  1935857.58  323798.00   \n",
       "2010-03-12  1548033.78  2015781.27  476420.77  2102530.17  344490.88   \n",
       "\n",
       "Store               6          7          8          9           10  \\\n",
       "Date                                                                  \n",
       "2010-01-10  1328468.89  448998.73  804105.49  495692.19  1645892.97   \n",
       "2010-02-04  1770333.90  561145.14  914500.91  545206.32  2138651.97   \n",
       "2010-02-07  1759777.25  575570.77  852333.75  528832.54  1845893.87   \n",
       "2010-03-09  1510925.32  532765.05  899036.47  511049.06  1766331.45   \n",
       "2010-03-12  1677067.24  552811.62  952766.93  578164.82  2251206.64   \n",
       "\n",
       "Store               11          12          13          14         15  \\\n",
       "Date                                                                    \n",
       "2010-01-10  1182490.46   850936.26  1765584.48  1855703.66  566945.95   \n",
       "2010-02-04  1446210.26  1011822.30  2142482.14  2495630.51  718470.71   \n",
       "2010-02-07  1302600.14   951957.31  2018314.71  2334788.42  709337.11   \n",
       "2010-03-09  1303914.27  1075758.55  1911852.58  2182563.66  638647.21   \n",
       "2010-03-12  1380522.64  1069533.17  2083379.89  2258489.63  754134.95   \n",
       "\n",
       "Store              16         17          18          19          20  \\\n",
       "Date                                                                   \n",
       "2010-01-10  463977.54  829207.27   948977.50  1379456.30  1933719.21   \n",
       "2010-02-04  490503.69  848521.17  1254107.84  1642970.27  2405395.22   \n",
       "2010-02-07  610641.42  958875.37  1257928.35  1549018.68  2143676.77   \n",
       "2010-03-09  542087.89  834373.73  1187359.77  1623519.64  2121561.41   \n",
       "2010-03-12  512260.59  926573.81  1211026.13  1615987.96  2416051.17   \n",
       "\n",
       "Store              21          22          23          24         25  \\\n",
       "Date                                                                   \n",
       "2010-01-10  677158.39   905987.17  1129909.44  1215273.20  658640.14   \n",
       "2010-02-04  753664.12  1177340.99  1556627.62  1478321.26  822486.37   \n",
       "2010-02-07  711470.80  1120259.71  1549113.18  1563387.94  759407.87   \n",
       "2010-03-09  727772.80  1074535.88  1405119.23  1366381.60  685700.08   \n",
       "2010-03-12  829210.73  1230514.58  1617025.41  1413302.70  885572.96   \n",
       "\n",
       "Store               26          27          28         29         30  \\\n",
       "Date                                                                   \n",
       "2010-01-10   923221.52  1543532.83  1203080.41  474698.01  445475.30   \n",
       "2010-02-04  1029849.20  2053952.97  1441559.40  599629.25  457884.06   \n",
       "2010-02-07  1078455.48  2024554.10  1399960.15  581473.55  450337.47   \n",
       "2010-03-09  1037549.71  1908110.90  1523410.71  579272.38  461548.98   \n",
       "2010-03-12  1016143.64  1884343.67  1447916.29  642678.53  407112.22   \n",
       "\n",
       "Store               31          32         33          34          35  \\\n",
       "Date                                                                    \n",
       "2010-01-10  1213981.64  1061089.56  224294.39   865709.11   771065.21   \n",
       "2010-02-04  1357600.68  1131732.94  274634.52   979428.66  1189556.47   \n",
       "2010-02-07  1311704.92  1187988.64  267495.76   919229.36  1245827.08   \n",
       "2010-03-09  1302047.48  1095932.51  237405.82   964356.74   948660.79   \n",
       "2010-03-12  1338716.37  1200892.56  209986.25  1001512.21   982598.88   \n",
       "\n",
       "Store              36         37         38          39          40  \\\n",
       "Date                                                                  \n",
       "2010-01-10  422169.47  529877.93  360256.58  1219583.91   891152.33   \n",
       "2010-02-04  435972.82  540189.70  368929.55  1463942.62  1041202.13   \n",
       "2010-02-07  434252.15  498292.53  361181.48  1352547.70  1087578.78   \n",
       "2010-03-09  431294.45  510427.53  377096.55  1345167.61   976453.34   \n",
       "2010-03-12  360266.09  508213.14  351925.36  1431910.98  1000582.06   \n",
       "\n",
       "Store               41         42         43         44         45  \n",
       "Date                                                                \n",
       "2010-01-10  1109216.35  481523.93  657108.77  300152.45  690007.76  \n",
       "2010-02-04  1168826.39  505907.41  650102.80  286197.50  877235.96  \n",
       "2010-02-07  1273279.79  507168.80  667353.79  300628.19  800147.84  \n",
       "2010-03-09  1223355.50  524658.06  689326.91  295880.12  790144.70  \n",
       "2010-03-12  1220115.75  500250.80  557543.62  264214.12  879244.90  "
      ]
     },
     "execution_count": 63,
     "metadata": {},
     "output_type": "execute_result"
    }
   ],
   "source": [
    "df['Date'] = pd.to_datetime(df['Date'])\n",
    "\n",
    "# Aggregate total weekly sales for each Store\n",
    "agg_stores = df.groupby(['Date', 'Store'])['Weekly_Sales'].sum().unstack(fill_value=0)\n",
    "\n",
    "print(\"Aggregated data shape:\", agg_stores.shape)\n",
    "print(\"Number of stores:\", len(agg_stores.columns))\n",
    "agg_stores.head()"
   ]
  },
  {
   "cell_type": "code",
   "execution_count": 64,
   "id": "f94e779b-4fbb-4d29-9772-a500a78c7d27",
   "metadata": {},
   "outputs": [
    {
     "name": "stdout",
     "output_type": "stream",
     "text": [
      "\n",
      "Processing store: 1\n"
     ]
    },
    {
     "name": "stderr",
     "output_type": "stream",
     "text": [
      "C:\\Users\\B.CHANDRIKA\\anaconda4\\Lib\\site-packages\\statsmodels\\tsa\\base\\tsa_model.py:473: ValueWarning: A date index has been provided, but it has no associated frequency information and so will be ignored when e.g. forecasting.\n",
      "  self._init_dates(dates, freq)\n",
      "C:\\Users\\B.CHANDRIKA\\anaconda4\\Lib\\site-packages\\statsmodels\\tsa\\base\\tsa_model.py:473: ValueWarning: A date index has been provided, but it has no associated frequency information and so will be ignored when e.g. forecasting.\n",
      "  self._init_dates(dates, freq)\n",
      "C:\\Users\\B.CHANDRIKA\\anaconda4\\Lib\\site-packages\\statsmodels\\tsa\\base\\tsa_model.py:836: ValueWarning: No supported index is available. Prediction results will be given with an integer index beginning at `start`.\n",
      "  return get_prediction_index(\n",
      "C:\\Users\\B.CHANDRIKA\\anaconda4\\Lib\\site-packages\\statsmodels\\tsa\\base\\tsa_model.py:473: ValueWarning: A date index has been provided, but it has no associated frequency information and so will be ignored when e.g. forecasting.\n",
      "  self._init_dates(dates, freq)\n"
     ]
    },
    {
     "name": "stdout",
     "output_type": "stream",
     "text": [
      "  SARIMAX fitted and saved.\n",
      "\n",
      "Processing store: 2\n"
     ]
    },
    {
     "name": "stderr",
     "output_type": "stream",
     "text": [
      "C:\\Users\\B.CHANDRIKA\\anaconda4\\Lib\\site-packages\\statsmodels\\tsa\\base\\tsa_model.py:473: ValueWarning: A date index has been provided, but it has no associated frequency information and so will be ignored when e.g. forecasting.\n",
      "  self._init_dates(dates, freq)\n",
      "C:\\Users\\B.CHANDRIKA\\anaconda4\\Lib\\site-packages\\statsmodels\\tsa\\base\\tsa_model.py:836: ValueWarning: No supported index is available. Prediction results will be given with an integer index beginning at `start`.\n",
      "  return get_prediction_index(\n",
      "C:\\Users\\B.CHANDRIKA\\anaconda4\\Lib\\site-packages\\statsmodels\\tsa\\base\\tsa_model.py:473: ValueWarning: A date index has been provided, but it has no associated frequency information and so will be ignored when e.g. forecasting.\n",
      "  self._init_dates(dates, freq)\n",
      "C:\\Users\\B.CHANDRIKA\\anaconda4\\Lib\\site-packages\\statsmodels\\tsa\\base\\tsa_model.py:473: ValueWarning: A date index has been provided, but it has no associated frequency information and so will be ignored when e.g. forecasting.\n",
      "  self._init_dates(dates, freq)\n"
     ]
    },
    {
     "name": "stdout",
     "output_type": "stream",
     "text": [
      "  SARIMAX fitted and saved.\n",
      "\n",
      "Processing store: 3\n"
     ]
    },
    {
     "name": "stderr",
     "output_type": "stream",
     "text": [
      "C:\\Users\\B.CHANDRIKA\\anaconda4\\Lib\\site-packages\\statsmodels\\tsa\\base\\tsa_model.py:836: ValueWarning: No supported index is available. Prediction results will be given with an integer index beginning at `start`.\n",
      "  return get_prediction_index(\n",
      "C:\\Users\\B.CHANDRIKA\\anaconda4\\Lib\\site-packages\\statsmodels\\tsa\\base\\tsa_model.py:473: ValueWarning: A date index has been provided, but it has no associated frequency information and so will be ignored when e.g. forecasting.\n",
      "  self._init_dates(dates, freq)\n"
     ]
    },
    {
     "name": "stdout",
     "output_type": "stream",
     "text": [
      "  SARIMAX fitted and saved.\n",
      "\n",
      "Processing store: 4\n"
     ]
    },
    {
     "name": "stderr",
     "output_type": "stream",
     "text": [
      "C:\\Users\\B.CHANDRIKA\\anaconda4\\Lib\\site-packages\\statsmodels\\tsa\\base\\tsa_model.py:473: ValueWarning: A date index has been provided, but it has no associated frequency information and so will be ignored when e.g. forecasting.\n",
      "  self._init_dates(dates, freq)\n",
      "C:\\Users\\B.CHANDRIKA\\anaconda4\\Lib\\site-packages\\statsmodels\\tsa\\base\\tsa_model.py:836: ValueWarning: No supported index is available. Prediction results will be given with an integer index beginning at `start`.\n",
      "  return get_prediction_index(\n",
      "C:\\Users\\B.CHANDRIKA\\anaconda4\\Lib\\site-packages\\statsmodels\\tsa\\base\\tsa_model.py:473: ValueWarning: A date index has been provided, but it has no associated frequency information and so will be ignored when e.g. forecasting.\n",
      "  self._init_dates(dates, freq)\n",
      "C:\\Users\\B.CHANDRIKA\\anaconda4\\Lib\\site-packages\\statsmodels\\tsa\\base\\tsa_model.py:473: ValueWarning: A date index has been provided, but it has no associated frequency information and so will be ignored when e.g. forecasting.\n",
      "  self._init_dates(dates, freq)\n"
     ]
    },
    {
     "name": "stdout",
     "output_type": "stream",
     "text": [
      "  SARIMAX fitted and saved.\n",
      "\n",
      "Processing store: 5\n"
     ]
    },
    {
     "name": "stderr",
     "output_type": "stream",
     "text": [
      "C:\\Users\\B.CHANDRIKA\\anaconda4\\Lib\\site-packages\\statsmodels\\tsa\\base\\tsa_model.py:836: ValueWarning: No supported index is available. Prediction results will be given with an integer index beginning at `start`.\n",
      "  return get_prediction_index(\n",
      "C:\\Users\\B.CHANDRIKA\\anaconda4\\Lib\\site-packages\\statsmodels\\tsa\\base\\tsa_model.py:473: ValueWarning: A date index has been provided, but it has no associated frequency information and so will be ignored when e.g. forecasting.\n",
      "  self._init_dates(dates, freq)\n",
      "C:\\Users\\B.CHANDRIKA\\anaconda4\\Lib\\site-packages\\statsmodels\\tsa\\base\\tsa_model.py:473: ValueWarning: A date index has been provided, but it has no associated frequency information and so will be ignored when e.g. forecasting.\n",
      "  self._init_dates(dates, freq)\n"
     ]
    },
    {
     "name": "stdout",
     "output_type": "stream",
     "text": [
      "  SARIMAX fitted and saved.\n",
      "\n",
      "Processing store: 6\n"
     ]
    },
    {
     "name": "stderr",
     "output_type": "stream",
     "text": [
      "C:\\Users\\B.CHANDRIKA\\anaconda4\\Lib\\site-packages\\statsmodels\\tsa\\base\\tsa_model.py:836: ValueWarning: No supported index is available. Prediction results will be given with an integer index beginning at `start`.\n",
      "  return get_prediction_index(\n",
      "C:\\Users\\B.CHANDRIKA\\anaconda4\\Lib\\site-packages\\statsmodels\\tsa\\base\\tsa_model.py:473: ValueWarning: A date index has been provided, but it has no associated frequency information and so will be ignored when e.g. forecasting.\n",
      "  self._init_dates(dates, freq)\n",
      "C:\\Users\\B.CHANDRIKA\\anaconda4\\Lib\\site-packages\\statsmodels\\tsa\\base\\tsa_model.py:473: ValueWarning: A date index has been provided, but it has no associated frequency information and so will be ignored when e.g. forecasting.\n",
      "  self._init_dates(dates, freq)\n"
     ]
    },
    {
     "name": "stdout",
     "output_type": "stream",
     "text": [
      "  SARIMAX fitted and saved.\n",
      "\n",
      "Processing store: 7\n"
     ]
    },
    {
     "name": "stderr",
     "output_type": "stream",
     "text": [
      "C:\\Users\\B.CHANDRIKA\\anaconda4\\Lib\\site-packages\\statsmodels\\tsa\\base\\tsa_model.py:836: ValueWarning: No supported index is available. Prediction results will be given with an integer index beginning at `start`.\n",
      "  return get_prediction_index(\n",
      "C:\\Users\\B.CHANDRIKA\\anaconda4\\Lib\\site-packages\\statsmodels\\tsa\\base\\tsa_model.py:473: ValueWarning: A date index has been provided, but it has no associated frequency information and so will be ignored when e.g. forecasting.\n",
      "  self._init_dates(dates, freq)\n",
      "C:\\Users\\B.CHANDRIKA\\anaconda4\\Lib\\site-packages\\statsmodels\\tsa\\base\\tsa_model.py:473: ValueWarning: A date index has been provided, but it has no associated frequency information and so will be ignored when e.g. forecasting.\n",
      "  self._init_dates(dates, freq)\n"
     ]
    },
    {
     "name": "stdout",
     "output_type": "stream",
     "text": [
      "  SARIMAX fitted and saved.\n",
      "\n",
      "Processing store: 8\n"
     ]
    },
    {
     "name": "stderr",
     "output_type": "stream",
     "text": [
      "C:\\Users\\B.CHANDRIKA\\anaconda4\\Lib\\site-packages\\statsmodels\\tsa\\base\\tsa_model.py:836: ValueWarning: No supported index is available. Prediction results will be given with an integer index beginning at `start`.\n",
      "  return get_prediction_index(\n",
      "C:\\Users\\B.CHANDRIKA\\anaconda4\\Lib\\site-packages\\statsmodels\\tsa\\base\\tsa_model.py:473: ValueWarning: A date index has been provided, but it has no associated frequency information and so will be ignored when e.g. forecasting.\n",
      "  self._init_dates(dates, freq)\n",
      "C:\\Users\\B.CHANDRIKA\\anaconda4\\Lib\\site-packages\\statsmodels\\tsa\\base\\tsa_model.py:473: ValueWarning: A date index has been provided, but it has no associated frequency information and so will be ignored when e.g. forecasting.\n",
      "  self._init_dates(dates, freq)\n"
     ]
    },
    {
     "name": "stdout",
     "output_type": "stream",
     "text": [
      "  SARIMAX fitted and saved.\n",
      "\n",
      "Processing store: 9\n"
     ]
    },
    {
     "name": "stderr",
     "output_type": "stream",
     "text": [
      "C:\\Users\\B.CHANDRIKA\\anaconda4\\Lib\\site-packages\\statsmodels\\tsa\\base\\tsa_model.py:836: ValueWarning: No supported index is available. Prediction results will be given with an integer index beginning at `start`.\n",
      "  return get_prediction_index(\n",
      "C:\\Users\\B.CHANDRIKA\\anaconda4\\Lib\\site-packages\\statsmodels\\tsa\\base\\tsa_model.py:473: ValueWarning: A date index has been provided, but it has no associated frequency information and so will be ignored when e.g. forecasting.\n",
      "  self._init_dates(dates, freq)\n",
      "C:\\Users\\B.CHANDRIKA\\anaconda4\\Lib\\site-packages\\statsmodels\\tsa\\base\\tsa_model.py:473: ValueWarning: A date index has been provided, but it has no associated frequency information and so will be ignored when e.g. forecasting.\n",
      "  self._init_dates(dates, freq)\n"
     ]
    },
    {
     "name": "stdout",
     "output_type": "stream",
     "text": [
      "  SARIMAX fitted and saved.\n",
      "\n",
      "Processing store: 10\n"
     ]
    },
    {
     "name": "stderr",
     "output_type": "stream",
     "text": [
      "C:\\Users\\B.CHANDRIKA\\anaconda4\\Lib\\site-packages\\statsmodels\\tsa\\base\\tsa_model.py:836: ValueWarning: No supported index is available. Prediction results will be given with an integer index beginning at `start`.\n",
      "  return get_prediction_index(\n",
      "C:\\Users\\B.CHANDRIKA\\anaconda4\\Lib\\site-packages\\statsmodels\\tsa\\base\\tsa_model.py:473: ValueWarning: A date index has been provided, but it has no associated frequency information and so will be ignored when e.g. forecasting.\n",
      "  self._init_dates(dates, freq)\n",
      "C:\\Users\\B.CHANDRIKA\\anaconda4\\Lib\\site-packages\\statsmodels\\tsa\\base\\tsa_model.py:473: ValueWarning: A date index has been provided, but it has no associated frequency information and so will be ignored when e.g. forecasting.\n",
      "  self._init_dates(dates, freq)\n"
     ]
    },
    {
     "name": "stdout",
     "output_type": "stream",
     "text": [
      "  SARIMAX fitted and saved.\n",
      "\n",
      "Processing store: 11\n"
     ]
    },
    {
     "name": "stderr",
     "output_type": "stream",
     "text": [
      "C:\\Users\\B.CHANDRIKA\\anaconda4\\Lib\\site-packages\\statsmodels\\tsa\\base\\tsa_model.py:836: ValueWarning: No supported index is available. Prediction results will be given with an integer index beginning at `start`.\n",
      "  return get_prediction_index(\n",
      "C:\\Users\\B.CHANDRIKA\\anaconda4\\Lib\\site-packages\\statsmodels\\tsa\\base\\tsa_model.py:473: ValueWarning: A date index has been provided, but it has no associated frequency information and so will be ignored when e.g. forecasting.\n",
      "  self._init_dates(dates, freq)\n",
      "C:\\Users\\B.CHANDRIKA\\anaconda4\\Lib\\site-packages\\statsmodels\\tsa\\base\\tsa_model.py:473: ValueWarning: A date index has been provided, but it has no associated frequency information and so will be ignored when e.g. forecasting.\n",
      "  self._init_dates(dates, freq)\n"
     ]
    },
    {
     "name": "stdout",
     "output_type": "stream",
     "text": [
      "  SARIMAX fitted and saved.\n",
      "\n",
      "Processing store: 12\n"
     ]
    },
    {
     "name": "stderr",
     "output_type": "stream",
     "text": [
      "C:\\Users\\B.CHANDRIKA\\anaconda4\\Lib\\site-packages\\statsmodels\\tsa\\base\\tsa_model.py:836: ValueWarning: No supported index is available. Prediction results will be given with an integer index beginning at `start`.\n",
      "  return get_prediction_index(\n",
      "C:\\Users\\B.CHANDRIKA\\anaconda4\\Lib\\site-packages\\statsmodels\\tsa\\base\\tsa_model.py:473: ValueWarning: A date index has been provided, but it has no associated frequency information and so will be ignored when e.g. forecasting.\n",
      "  self._init_dates(dates, freq)\n",
      "C:\\Users\\B.CHANDRIKA\\anaconda4\\Lib\\site-packages\\statsmodels\\tsa\\base\\tsa_model.py:473: ValueWarning: A date index has been provided, but it has no associated frequency information and so will be ignored when e.g. forecasting.\n",
      "  self._init_dates(dates, freq)\n"
     ]
    },
    {
     "name": "stdout",
     "output_type": "stream",
     "text": [
      "  SARIMAX fitted and saved.\n",
      "\n",
      "Processing store: 13\n"
     ]
    },
    {
     "name": "stderr",
     "output_type": "stream",
     "text": [
      "C:\\Users\\B.CHANDRIKA\\anaconda4\\Lib\\site-packages\\statsmodels\\tsa\\base\\tsa_model.py:836: ValueWarning: No supported index is available. Prediction results will be given with an integer index beginning at `start`.\n",
      "  return get_prediction_index(\n",
      "C:\\Users\\B.CHANDRIKA\\anaconda4\\Lib\\site-packages\\statsmodels\\tsa\\base\\tsa_model.py:473: ValueWarning: A date index has been provided, but it has no associated frequency information and so will be ignored when e.g. forecasting.\n",
      "  self._init_dates(dates, freq)\n",
      "C:\\Users\\B.CHANDRIKA\\anaconda4\\Lib\\site-packages\\statsmodels\\tsa\\base\\tsa_model.py:473: ValueWarning: A date index has been provided, but it has no associated frequency information and so will be ignored when e.g. forecasting.\n",
      "  self._init_dates(dates, freq)\n"
     ]
    },
    {
     "name": "stdout",
     "output_type": "stream",
     "text": [
      "  SARIMAX fitted and saved.\n",
      "\n",
      "Processing store: 14\n"
     ]
    },
    {
     "name": "stderr",
     "output_type": "stream",
     "text": [
      "C:\\Users\\B.CHANDRIKA\\anaconda4\\Lib\\site-packages\\statsmodels\\tsa\\base\\tsa_model.py:836: ValueWarning: No supported index is available. Prediction results will be given with an integer index beginning at `start`.\n",
      "  return get_prediction_index(\n",
      "C:\\Users\\B.CHANDRIKA\\anaconda4\\Lib\\site-packages\\statsmodels\\tsa\\base\\tsa_model.py:473: ValueWarning: A date index has been provided, but it has no associated frequency information and so will be ignored when e.g. forecasting.\n",
      "  self._init_dates(dates, freq)\n",
      "C:\\Users\\B.CHANDRIKA\\anaconda4\\Lib\\site-packages\\statsmodels\\tsa\\base\\tsa_model.py:473: ValueWarning: A date index has been provided, but it has no associated frequency information and so will be ignored when e.g. forecasting.\n",
      "  self._init_dates(dates, freq)\n"
     ]
    },
    {
     "name": "stdout",
     "output_type": "stream",
     "text": [
      "  SARIMAX fitted and saved.\n",
      "\n",
      "Processing store: 15\n"
     ]
    },
    {
     "name": "stderr",
     "output_type": "stream",
     "text": [
      "C:\\Users\\B.CHANDRIKA\\anaconda4\\Lib\\site-packages\\statsmodels\\tsa\\base\\tsa_model.py:836: ValueWarning: No supported index is available. Prediction results will be given with an integer index beginning at `start`.\n",
      "  return get_prediction_index(\n",
      "C:\\Users\\B.CHANDRIKA\\anaconda4\\Lib\\site-packages\\statsmodels\\tsa\\base\\tsa_model.py:473: ValueWarning: A date index has been provided, but it has no associated frequency information and so will be ignored when e.g. forecasting.\n",
      "  self._init_dates(dates, freq)\n",
      "C:\\Users\\B.CHANDRIKA\\anaconda4\\Lib\\site-packages\\statsmodels\\tsa\\base\\tsa_model.py:473: ValueWarning: A date index has been provided, but it has no associated frequency information and so will be ignored when e.g. forecasting.\n",
      "  self._init_dates(dates, freq)\n"
     ]
    },
    {
     "name": "stdout",
     "output_type": "stream",
     "text": [
      "  SARIMAX fitted and saved.\n",
      "\n",
      "Processing store: 16\n"
     ]
    },
    {
     "name": "stderr",
     "output_type": "stream",
     "text": [
      "C:\\Users\\B.CHANDRIKA\\anaconda4\\Lib\\site-packages\\statsmodels\\tsa\\base\\tsa_model.py:836: ValueWarning: No supported index is available. Prediction results will be given with an integer index beginning at `start`.\n",
      "  return get_prediction_index(\n"
     ]
    },
    {
     "name": "stdout",
     "output_type": "stream",
     "text": [
      "  SARIMAX fitted and saved.\n",
      "\n",
      "Processing store: 17\n"
     ]
    },
    {
     "name": "stderr",
     "output_type": "stream",
     "text": [
      "C:\\Users\\B.CHANDRIKA\\anaconda4\\Lib\\site-packages\\statsmodels\\tsa\\base\\tsa_model.py:473: ValueWarning: A date index has been provided, but it has no associated frequency information and so will be ignored when e.g. forecasting.\n",
      "  self._init_dates(dates, freq)\n",
      "C:\\Users\\B.CHANDRIKA\\anaconda4\\Lib\\site-packages\\statsmodels\\tsa\\base\\tsa_model.py:473: ValueWarning: A date index has been provided, but it has no associated frequency information and so will be ignored when e.g. forecasting.\n",
      "  self._init_dates(dates, freq)\n",
      "C:\\Users\\B.CHANDRIKA\\anaconda4\\Lib\\site-packages\\statsmodels\\tsa\\base\\tsa_model.py:836: ValueWarning: No supported index is available. Prediction results will be given with an integer index beginning at `start`.\n",
      "  return get_prediction_index(\n",
      "C:\\Users\\B.CHANDRIKA\\anaconda4\\Lib\\site-packages\\statsmodels\\tsa\\base\\tsa_model.py:473: ValueWarning: A date index has been provided, but it has no associated frequency information and so will be ignored when e.g. forecasting.\n",
      "  self._init_dates(dates, freq)\n",
      "C:\\Users\\B.CHANDRIKA\\anaconda4\\Lib\\site-packages\\statsmodels\\tsa\\base\\tsa_model.py:473: ValueWarning: A date index has been provided, but it has no associated frequency information and so will be ignored when e.g. forecasting.\n",
      "  self._init_dates(dates, freq)\n"
     ]
    },
    {
     "name": "stdout",
     "output_type": "stream",
     "text": [
      "  SARIMAX fitted and saved.\n",
      "\n",
      "Processing store: 18\n"
     ]
    },
    {
     "name": "stderr",
     "output_type": "stream",
     "text": [
      "C:\\Users\\B.CHANDRIKA\\anaconda4\\Lib\\site-packages\\statsmodels\\tsa\\base\\tsa_model.py:836: ValueWarning: No supported index is available. Prediction results will be given with an integer index beginning at `start`.\n",
      "  return get_prediction_index(\n",
      "C:\\Users\\B.CHANDRIKA\\anaconda4\\Lib\\site-packages\\statsmodels\\tsa\\base\\tsa_model.py:473: ValueWarning: A date index has been provided, but it has no associated frequency information and so will be ignored when e.g. forecasting.\n",
      "  self._init_dates(dates, freq)\n",
      "C:\\Users\\B.CHANDRIKA\\anaconda4\\Lib\\site-packages\\statsmodels\\tsa\\base\\tsa_model.py:473: ValueWarning: A date index has been provided, but it has no associated frequency information and so will be ignored when e.g. forecasting.\n",
      "  self._init_dates(dates, freq)\n"
     ]
    },
    {
     "name": "stdout",
     "output_type": "stream",
     "text": [
      "  SARIMAX fitted and saved.\n",
      "\n",
      "Processing store: 19\n"
     ]
    },
    {
     "name": "stderr",
     "output_type": "stream",
     "text": [
      "C:\\Users\\B.CHANDRIKA\\anaconda4\\Lib\\site-packages\\statsmodels\\tsa\\base\\tsa_model.py:836: ValueWarning: No supported index is available. Prediction results will be given with an integer index beginning at `start`.\n",
      "  return get_prediction_index(\n"
     ]
    },
    {
     "name": "stdout",
     "output_type": "stream",
     "text": [
      "  SARIMAX fitted and saved.\n",
      "\n",
      "Processing store: 20\n"
     ]
    },
    {
     "name": "stderr",
     "output_type": "stream",
     "text": [
      "C:\\Users\\B.CHANDRIKA\\anaconda4\\Lib\\site-packages\\statsmodels\\tsa\\base\\tsa_model.py:473: ValueWarning: A date index has been provided, but it has no associated frequency information and so will be ignored when e.g. forecasting.\n",
      "  self._init_dates(dates, freq)\n",
      "C:\\Users\\B.CHANDRIKA\\anaconda4\\Lib\\site-packages\\statsmodels\\tsa\\base\\tsa_model.py:473: ValueWarning: A date index has been provided, but it has no associated frequency information and so will be ignored when e.g. forecasting.\n",
      "  self._init_dates(dates, freq)\n",
      "C:\\Users\\B.CHANDRIKA\\anaconda4\\Lib\\site-packages\\statsmodels\\tsa\\base\\tsa_model.py:836: ValueWarning: No supported index is available. Prediction results will be given with an integer index beginning at `start`.\n",
      "  return get_prediction_index(\n",
      "C:\\Users\\B.CHANDRIKA\\anaconda4\\Lib\\site-packages\\statsmodels\\tsa\\base\\tsa_model.py:473: ValueWarning: A date index has been provided, but it has no associated frequency information and so will be ignored when e.g. forecasting.\n",
      "  self._init_dates(dates, freq)\n",
      "C:\\Users\\B.CHANDRIKA\\anaconda4\\Lib\\site-packages\\statsmodels\\tsa\\base\\tsa_model.py:473: ValueWarning: A date index has been provided, but it has no associated frequency information and so will be ignored when e.g. forecasting.\n",
      "  self._init_dates(dates, freq)\n"
     ]
    },
    {
     "name": "stdout",
     "output_type": "stream",
     "text": [
      "  SARIMAX fitted and saved.\n",
      "\n",
      "Processing store: 21\n"
     ]
    },
    {
     "name": "stderr",
     "output_type": "stream",
     "text": [
      "C:\\Users\\B.CHANDRIKA\\anaconda4\\Lib\\site-packages\\statsmodels\\tsa\\base\\tsa_model.py:836: ValueWarning: No supported index is available. Prediction results will be given with an integer index beginning at `start`.\n",
      "  return get_prediction_index(\n",
      "C:\\Users\\B.CHANDRIKA\\anaconda4\\Lib\\site-packages\\statsmodels\\tsa\\base\\tsa_model.py:473: ValueWarning: A date index has been provided, but it has no associated frequency information and so will be ignored when e.g. forecasting.\n",
      "  self._init_dates(dates, freq)\n"
     ]
    },
    {
     "name": "stdout",
     "output_type": "stream",
     "text": [
      "  SARIMAX fitted and saved.\n",
      "\n",
      "Processing store: 22\n"
     ]
    },
    {
     "name": "stderr",
     "output_type": "stream",
     "text": [
      "C:\\Users\\B.CHANDRIKA\\anaconda4\\Lib\\site-packages\\statsmodels\\tsa\\base\\tsa_model.py:473: ValueWarning: A date index has been provided, but it has no associated frequency information and so will be ignored when e.g. forecasting.\n",
      "  self._init_dates(dates, freq)\n",
      "C:\\Users\\B.CHANDRIKA\\anaconda4\\Lib\\site-packages\\statsmodels\\tsa\\base\\tsa_model.py:836: ValueWarning: No supported index is available. Prediction results will be given with an integer index beginning at `start`.\n",
      "  return get_prediction_index(\n",
      "C:\\Users\\B.CHANDRIKA\\anaconda4\\Lib\\site-packages\\statsmodels\\tsa\\base\\tsa_model.py:473: ValueWarning: A date index has been provided, but it has no associated frequency information and so will be ignored when e.g. forecasting.\n",
      "  self._init_dates(dates, freq)\n",
      "C:\\Users\\B.CHANDRIKA\\anaconda4\\Lib\\site-packages\\statsmodels\\tsa\\base\\tsa_model.py:473: ValueWarning: A date index has been provided, but it has no associated frequency information and so will be ignored when e.g. forecasting.\n",
      "  self._init_dates(dates, freq)\n"
     ]
    },
    {
     "name": "stdout",
     "output_type": "stream",
     "text": [
      "  SARIMAX fitted and saved.\n",
      "\n",
      "Processing store: 23\n"
     ]
    },
    {
     "name": "stderr",
     "output_type": "stream",
     "text": [
      "C:\\Users\\B.CHANDRIKA\\anaconda4\\Lib\\site-packages\\statsmodels\\tsa\\base\\tsa_model.py:836: ValueWarning: No supported index is available. Prediction results will be given with an integer index beginning at `start`.\n",
      "  return get_prediction_index(\n"
     ]
    },
    {
     "name": "stdout",
     "output_type": "stream",
     "text": [
      "  SARIMAX fitted and saved.\n",
      "\n",
      "Processing store: 24\n"
     ]
    },
    {
     "name": "stderr",
     "output_type": "stream",
     "text": [
      "C:\\Users\\B.CHANDRIKA\\anaconda4\\Lib\\site-packages\\statsmodels\\tsa\\base\\tsa_model.py:473: ValueWarning: A date index has been provided, but it has no associated frequency information and so will be ignored when e.g. forecasting.\n",
      "  self._init_dates(dates, freq)\n",
      "C:\\Users\\B.CHANDRIKA\\anaconda4\\Lib\\site-packages\\statsmodels\\tsa\\base\\tsa_model.py:473: ValueWarning: A date index has been provided, but it has no associated frequency information and so will be ignored when e.g. forecasting.\n",
      "  self._init_dates(dates, freq)\n",
      "C:\\Users\\B.CHANDRIKA\\anaconda4\\Lib\\site-packages\\statsmodels\\tsa\\base\\tsa_model.py:836: ValueWarning: No supported index is available. Prediction results will be given with an integer index beginning at `start`.\n",
      "  return get_prediction_index(\n"
     ]
    },
    {
     "name": "stdout",
     "output_type": "stream",
     "text": [
      "  SARIMAX fitted and saved.\n",
      "\n",
      "Processing store: 25\n"
     ]
    },
    {
     "name": "stderr",
     "output_type": "stream",
     "text": [
      "C:\\Users\\B.CHANDRIKA\\anaconda4\\Lib\\site-packages\\statsmodels\\tsa\\base\\tsa_model.py:473: ValueWarning: A date index has been provided, but it has no associated frequency information and so will be ignored when e.g. forecasting.\n",
      "  self._init_dates(dates, freq)\n",
      "C:\\Users\\B.CHANDRIKA\\anaconda4\\Lib\\site-packages\\statsmodels\\tsa\\base\\tsa_model.py:473: ValueWarning: A date index has been provided, but it has no associated frequency information and so will be ignored when e.g. forecasting.\n",
      "  self._init_dates(dates, freq)\n",
      "C:\\Users\\B.CHANDRIKA\\anaconda4\\Lib\\site-packages\\statsmodels\\tsa\\base\\tsa_model.py:836: ValueWarning: No supported index is available. Prediction results will be given with an integer index beginning at `start`.\n",
      "  return get_prediction_index(\n",
      "C:\\Users\\B.CHANDRIKA\\anaconda4\\Lib\\site-packages\\statsmodels\\tsa\\base\\tsa_model.py:473: ValueWarning: A date index has been provided, but it has no associated frequency information and so will be ignored when e.g. forecasting.\n",
      "  self._init_dates(dates, freq)\n",
      "C:\\Users\\B.CHANDRIKA\\anaconda4\\Lib\\site-packages\\statsmodels\\tsa\\base\\tsa_model.py:473: ValueWarning: A date index has been provided, but it has no associated frequency information and so will be ignored when e.g. forecasting.\n",
      "  self._init_dates(dates, freq)\n"
     ]
    },
    {
     "name": "stdout",
     "output_type": "stream",
     "text": [
      "  SARIMAX fitted and saved.\n",
      "\n",
      "Processing store: 26\n"
     ]
    },
    {
     "name": "stderr",
     "output_type": "stream",
     "text": [
      "C:\\Users\\B.CHANDRIKA\\anaconda4\\Lib\\site-packages\\statsmodels\\tsa\\base\\tsa_model.py:836: ValueWarning: No supported index is available. Prediction results will be given with an integer index beginning at `start`.\n",
      "  return get_prediction_index(\n",
      "C:\\Users\\B.CHANDRIKA\\anaconda4\\Lib\\site-packages\\statsmodels\\tsa\\base\\tsa_model.py:473: ValueWarning: A date index has been provided, but it has no associated frequency information and so will be ignored when e.g. forecasting.\n",
      "  self._init_dates(dates, freq)\n",
      "C:\\Users\\B.CHANDRIKA\\anaconda4\\Lib\\site-packages\\statsmodels\\tsa\\base\\tsa_model.py:473: ValueWarning: A date index has been provided, but it has no associated frequency information and so will be ignored when e.g. forecasting.\n",
      "  self._init_dates(dates, freq)\n"
     ]
    },
    {
     "name": "stdout",
     "output_type": "stream",
     "text": [
      "  SARIMAX fitted and saved.\n",
      "\n",
      "Processing store: 27\n"
     ]
    },
    {
     "name": "stderr",
     "output_type": "stream",
     "text": [
      "C:\\Users\\B.CHANDRIKA\\anaconda4\\Lib\\site-packages\\statsmodels\\tsa\\base\\tsa_model.py:836: ValueWarning: No supported index is available. Prediction results will be given with an integer index beginning at `start`.\n",
      "  return get_prediction_index(\n"
     ]
    },
    {
     "name": "stdout",
     "output_type": "stream",
     "text": [
      "  SARIMAX fitted and saved.\n",
      "\n",
      "Processing store: 28\n"
     ]
    },
    {
     "name": "stderr",
     "output_type": "stream",
     "text": [
      "C:\\Users\\B.CHANDRIKA\\anaconda4\\Lib\\site-packages\\statsmodels\\tsa\\base\\tsa_model.py:473: ValueWarning: A date index has been provided, but it has no associated frequency information and so will be ignored when e.g. forecasting.\n",
      "  self._init_dates(dates, freq)\n",
      "C:\\Users\\B.CHANDRIKA\\anaconda4\\Lib\\site-packages\\statsmodels\\tsa\\base\\tsa_model.py:473: ValueWarning: A date index has been provided, but it has no associated frequency information and so will be ignored when e.g. forecasting.\n",
      "  self._init_dates(dates, freq)\n",
      "C:\\Users\\B.CHANDRIKA\\anaconda4\\Lib\\site-packages\\statsmodels\\tsa\\base\\tsa_model.py:836: ValueWarning: No supported index is available. Prediction results will be given with an integer index beginning at `start`.\n",
      "  return get_prediction_index(\n",
      "C:\\Users\\B.CHANDRIKA\\anaconda4\\Lib\\site-packages\\statsmodels\\tsa\\base\\tsa_model.py:473: ValueWarning: A date index has been provided, but it has no associated frequency information and so will be ignored when e.g. forecasting.\n",
      "  self._init_dates(dates, freq)\n"
     ]
    },
    {
     "name": "stdout",
     "output_type": "stream",
     "text": [
      "  SARIMAX fitted and saved.\n",
      "\n",
      "Processing store: 29\n"
     ]
    },
    {
     "name": "stderr",
     "output_type": "stream",
     "text": [
      "C:\\Users\\B.CHANDRIKA\\anaconda4\\Lib\\site-packages\\statsmodels\\tsa\\base\\tsa_model.py:473: ValueWarning: A date index has been provided, but it has no associated frequency information and so will be ignored when e.g. forecasting.\n",
      "  self._init_dates(dates, freq)\n",
      "C:\\Users\\B.CHANDRIKA\\anaconda4\\Lib\\site-packages\\statsmodels\\tsa\\base\\tsa_model.py:836: ValueWarning: No supported index is available. Prediction results will be given with an integer index beginning at `start`.\n",
      "  return get_prediction_index(\n",
      "C:\\Users\\B.CHANDRIKA\\anaconda4\\Lib\\site-packages\\statsmodels\\tsa\\base\\tsa_model.py:473: ValueWarning: A date index has been provided, but it has no associated frequency information and so will be ignored when e.g. forecasting.\n",
      "  self._init_dates(dates, freq)\n",
      "C:\\Users\\B.CHANDRIKA\\anaconda4\\Lib\\site-packages\\statsmodels\\tsa\\base\\tsa_model.py:473: ValueWarning: A date index has been provided, but it has no associated frequency information and so will be ignored when e.g. forecasting.\n",
      "  self._init_dates(dates, freq)\n"
     ]
    },
    {
     "name": "stdout",
     "output_type": "stream",
     "text": [
      "  SARIMAX fitted and saved.\n",
      "\n",
      "Processing store: 30\n"
     ]
    },
    {
     "name": "stderr",
     "output_type": "stream",
     "text": [
      "C:\\Users\\B.CHANDRIKA\\anaconda4\\Lib\\site-packages\\statsmodels\\tsa\\base\\tsa_model.py:836: ValueWarning: No supported index is available. Prediction results will be given with an integer index beginning at `start`.\n",
      "  return get_prediction_index(\n",
      "C:\\Users\\B.CHANDRIKA\\anaconda4\\Lib\\site-packages\\statsmodels\\tsa\\base\\tsa_model.py:473: ValueWarning: A date index has been provided, but it has no associated frequency information and so will be ignored when e.g. forecasting.\n",
      "  self._init_dates(dates, freq)\n",
      "C:\\Users\\B.CHANDRIKA\\anaconda4\\Lib\\site-packages\\statsmodels\\tsa\\base\\tsa_model.py:473: ValueWarning: A date index has been provided, but it has no associated frequency information and so will be ignored when e.g. forecasting.\n",
      "  self._init_dates(dates, freq)\n"
     ]
    },
    {
     "name": "stdout",
     "output_type": "stream",
     "text": [
      "  SARIMAX fitted and saved.\n",
      "\n",
      "Processing store: 31\n"
     ]
    },
    {
     "name": "stderr",
     "output_type": "stream",
     "text": [
      "C:\\Users\\B.CHANDRIKA\\anaconda4\\Lib\\site-packages\\statsmodels\\tsa\\base\\tsa_model.py:836: ValueWarning: No supported index is available. Prediction results will be given with an integer index beginning at `start`.\n",
      "  return get_prediction_index(\n"
     ]
    },
    {
     "name": "stdout",
     "output_type": "stream",
     "text": [
      "  SARIMAX fitted and saved.\n",
      "\n",
      "Processing store: 32\n"
     ]
    },
    {
     "name": "stderr",
     "output_type": "stream",
     "text": [
      "C:\\Users\\B.CHANDRIKA\\anaconda4\\Lib\\site-packages\\statsmodels\\tsa\\base\\tsa_model.py:473: ValueWarning: A date index has been provided, but it has no associated frequency information and so will be ignored when e.g. forecasting.\n",
      "  self._init_dates(dates, freq)\n",
      "C:\\Users\\B.CHANDRIKA\\anaconda4\\Lib\\site-packages\\statsmodels\\tsa\\base\\tsa_model.py:473: ValueWarning: A date index has been provided, but it has no associated frequency information and so will be ignored when e.g. forecasting.\n",
      "  self._init_dates(dates, freq)\n",
      "C:\\Users\\B.CHANDRIKA\\anaconda4\\Lib\\site-packages\\statsmodels\\tsa\\base\\tsa_model.py:836: ValueWarning: No supported index is available. Prediction results will be given with an integer index beginning at `start`.\n",
      "  return get_prediction_index(\n"
     ]
    },
    {
     "name": "stdout",
     "output_type": "stream",
     "text": [
      "  SARIMAX fitted and saved.\n",
      "\n",
      "Processing store: 33\n"
     ]
    },
    {
     "name": "stderr",
     "output_type": "stream",
     "text": [
      "C:\\Users\\B.CHANDRIKA\\anaconda4\\Lib\\site-packages\\statsmodels\\tsa\\base\\tsa_model.py:473: ValueWarning: A date index has been provided, but it has no associated frequency information and so will be ignored when e.g. forecasting.\n",
      "  self._init_dates(dates, freq)\n",
      "C:\\Users\\B.CHANDRIKA\\anaconda4\\Lib\\site-packages\\statsmodels\\tsa\\base\\tsa_model.py:473: ValueWarning: A date index has been provided, but it has no associated frequency information and so will be ignored when e.g. forecasting.\n",
      "  self._init_dates(dates, freq)\n",
      "C:\\Users\\B.CHANDRIKA\\anaconda4\\Lib\\site-packages\\statsmodels\\tsa\\base\\tsa_model.py:836: ValueWarning: No supported index is available. Prediction results will be given with an integer index beginning at `start`.\n",
      "  return get_prediction_index(\n"
     ]
    },
    {
     "name": "stdout",
     "output_type": "stream",
     "text": [
      "  SARIMAX fitted and saved.\n",
      "\n",
      "Processing store: 34\n"
     ]
    },
    {
     "name": "stderr",
     "output_type": "stream",
     "text": [
      "C:\\Users\\B.CHANDRIKA\\anaconda4\\Lib\\site-packages\\statsmodels\\tsa\\base\\tsa_model.py:473: ValueWarning: A date index has been provided, but it has no associated frequency information and so will be ignored when e.g. forecasting.\n",
      "  self._init_dates(dates, freq)\n",
      "C:\\Users\\B.CHANDRIKA\\anaconda4\\Lib\\site-packages\\statsmodels\\tsa\\base\\tsa_model.py:473: ValueWarning: A date index has been provided, but it has no associated frequency information and so will be ignored when e.g. forecasting.\n",
      "  self._init_dates(dates, freq)\n",
      "C:\\Users\\B.CHANDRIKA\\anaconda4\\Lib\\site-packages\\statsmodels\\tsa\\base\\tsa_model.py:836: ValueWarning: No supported index is available. Prediction results will be given with an integer index beginning at `start`.\n",
      "  return get_prediction_index(\n",
      "C:\\Users\\B.CHANDRIKA\\anaconda4\\Lib\\site-packages\\statsmodels\\tsa\\base\\tsa_model.py:473: ValueWarning: A date index has been provided, but it has no associated frequency information and so will be ignored when e.g. forecasting.\n",
      "  self._init_dates(dates, freq)\n",
      "C:\\Users\\B.CHANDRIKA\\anaconda4\\Lib\\site-packages\\statsmodels\\tsa\\base\\tsa_model.py:473: ValueWarning: A date index has been provided, but it has no associated frequency information and so will be ignored when e.g. forecasting.\n",
      "  self._init_dates(dates, freq)\n"
     ]
    },
    {
     "name": "stdout",
     "output_type": "stream",
     "text": [
      "  SARIMAX fitted and saved.\n",
      "\n",
      "Processing store: 35\n"
     ]
    },
    {
     "name": "stderr",
     "output_type": "stream",
     "text": [
      "C:\\Users\\B.CHANDRIKA\\anaconda4\\Lib\\site-packages\\statsmodels\\tsa\\base\\tsa_model.py:836: ValueWarning: No supported index is available. Prediction results will be given with an integer index beginning at `start`.\n",
      "  return get_prediction_index(\n"
     ]
    },
    {
     "name": "stdout",
     "output_type": "stream",
     "text": [
      "  SARIMAX fitted and saved.\n",
      "\n",
      "Processing store: 36\n"
     ]
    },
    {
     "name": "stderr",
     "output_type": "stream",
     "text": [
      "C:\\Users\\B.CHANDRIKA\\anaconda4\\Lib\\site-packages\\statsmodels\\tsa\\base\\tsa_model.py:473: ValueWarning: A date index has been provided, but it has no associated frequency information and so will be ignored when e.g. forecasting.\n",
      "  self._init_dates(dates, freq)\n",
      "C:\\Users\\B.CHANDRIKA\\anaconda4\\Lib\\site-packages\\statsmodels\\tsa\\base\\tsa_model.py:473: ValueWarning: A date index has been provided, but it has no associated frequency information and so will be ignored when e.g. forecasting.\n",
      "  self._init_dates(dates, freq)\n",
      "C:\\Users\\B.CHANDRIKA\\anaconda4\\Lib\\site-packages\\statsmodels\\tsa\\base\\tsa_model.py:836: ValueWarning: No supported index is available. Prediction results will be given with an integer index beginning at `start`.\n",
      "  return get_prediction_index(\n"
     ]
    },
    {
     "name": "stdout",
     "output_type": "stream",
     "text": [
      "  SARIMAX fitted and saved.\n",
      "\n",
      "Processing store: 37\n"
     ]
    },
    {
     "name": "stderr",
     "output_type": "stream",
     "text": [
      "C:\\Users\\B.CHANDRIKA\\anaconda4\\Lib\\site-packages\\statsmodels\\tsa\\base\\tsa_model.py:473: ValueWarning: A date index has been provided, but it has no associated frequency information and so will be ignored when e.g. forecasting.\n",
      "  self._init_dates(dates, freq)\n",
      "C:\\Users\\B.CHANDRIKA\\anaconda4\\Lib\\site-packages\\statsmodels\\tsa\\base\\tsa_model.py:473: ValueWarning: A date index has been provided, but it has no associated frequency information and so will be ignored when e.g. forecasting.\n",
      "  self._init_dates(dates, freq)\n",
      "C:\\Users\\B.CHANDRIKA\\anaconda4\\Lib\\site-packages\\statsmodels\\tsa\\base\\tsa_model.py:836: ValueWarning: No supported index is available. Prediction results will be given with an integer index beginning at `start`.\n",
      "  return get_prediction_index(\n"
     ]
    },
    {
     "name": "stdout",
     "output_type": "stream",
     "text": [
      "  SARIMAX fitted and saved.\n",
      "\n",
      "Processing store: 38\n"
     ]
    },
    {
     "name": "stderr",
     "output_type": "stream",
     "text": [
      "C:\\Users\\B.CHANDRIKA\\anaconda4\\Lib\\site-packages\\statsmodels\\tsa\\base\\tsa_model.py:473: ValueWarning: A date index has been provided, but it has no associated frequency information and so will be ignored when e.g. forecasting.\n",
      "  self._init_dates(dates, freq)\n",
      "C:\\Users\\B.CHANDRIKA\\anaconda4\\Lib\\site-packages\\statsmodels\\tsa\\base\\tsa_model.py:473: ValueWarning: A date index has been provided, but it has no associated frequency information and so will be ignored when e.g. forecasting.\n",
      "  self._init_dates(dates, freq)\n",
      "C:\\Users\\B.CHANDRIKA\\anaconda4\\Lib\\site-packages\\statsmodels\\tsa\\base\\tsa_model.py:836: ValueWarning: No supported index is available. Prediction results will be given with an integer index beginning at `start`.\n",
      "  return get_prediction_index(\n"
     ]
    },
    {
     "name": "stdout",
     "output_type": "stream",
     "text": [
      "  SARIMAX fitted and saved.\n",
      "\n",
      "Processing store: 39\n"
     ]
    },
    {
     "name": "stderr",
     "output_type": "stream",
     "text": [
      "C:\\Users\\B.CHANDRIKA\\anaconda4\\Lib\\site-packages\\statsmodels\\tsa\\base\\tsa_model.py:473: ValueWarning: A date index has been provided, but it has no associated frequency information and so will be ignored when e.g. forecasting.\n",
      "  self._init_dates(dates, freq)\n",
      "C:\\Users\\B.CHANDRIKA\\anaconda4\\Lib\\site-packages\\statsmodels\\tsa\\base\\tsa_model.py:473: ValueWarning: A date index has been provided, but it has no associated frequency information and so will be ignored when e.g. forecasting.\n",
      "  self._init_dates(dates, freq)\n",
      "C:\\Users\\B.CHANDRIKA\\anaconda4\\Lib\\site-packages\\statsmodels\\tsa\\base\\tsa_model.py:836: ValueWarning: No supported index is available. Prediction results will be given with an integer index beginning at `start`.\n",
      "  return get_prediction_index(\n"
     ]
    },
    {
     "name": "stdout",
     "output_type": "stream",
     "text": [
      "  SARIMAX fitted and saved.\n",
      "\n",
      "Processing store: 40\n"
     ]
    },
    {
     "name": "stderr",
     "output_type": "stream",
     "text": [
      "C:\\Users\\B.CHANDRIKA\\anaconda4\\Lib\\site-packages\\statsmodels\\tsa\\base\\tsa_model.py:473: ValueWarning: A date index has been provided, but it has no associated frequency information and so will be ignored when e.g. forecasting.\n",
      "  self._init_dates(dates, freq)\n",
      "C:\\Users\\B.CHANDRIKA\\anaconda4\\Lib\\site-packages\\statsmodels\\tsa\\base\\tsa_model.py:473: ValueWarning: A date index has been provided, but it has no associated frequency information and so will be ignored when e.g. forecasting.\n",
      "  self._init_dates(dates, freq)\n",
      "C:\\Users\\B.CHANDRIKA\\anaconda4\\Lib\\site-packages\\statsmodels\\tsa\\base\\tsa_model.py:836: ValueWarning: No supported index is available. Prediction results will be given with an integer index beginning at `start`.\n",
      "  return get_prediction_index(\n"
     ]
    },
    {
     "name": "stdout",
     "output_type": "stream",
     "text": [
      "  SARIMAX fitted and saved.\n",
      "\n",
      "Processing store: 41\n"
     ]
    },
    {
     "name": "stderr",
     "output_type": "stream",
     "text": [
      "C:\\Users\\B.CHANDRIKA\\anaconda4\\Lib\\site-packages\\statsmodels\\tsa\\base\\tsa_model.py:473: ValueWarning: A date index has been provided, but it has no associated frequency information and so will be ignored when e.g. forecasting.\n",
      "  self._init_dates(dates, freq)\n",
      "C:\\Users\\B.CHANDRIKA\\anaconda4\\Lib\\site-packages\\statsmodels\\tsa\\base\\tsa_model.py:473: ValueWarning: A date index has been provided, but it has no associated frequency information and so will be ignored when e.g. forecasting.\n",
      "  self._init_dates(dates, freq)\n",
      "C:\\Users\\B.CHANDRIKA\\anaconda4\\Lib\\site-packages\\statsmodels\\tsa\\base\\tsa_model.py:836: ValueWarning: No supported index is available. Prediction results will be given with an integer index beginning at `start`.\n",
      "  return get_prediction_index(\n"
     ]
    },
    {
     "name": "stdout",
     "output_type": "stream",
     "text": [
      "  SARIMAX fitted and saved.\n",
      "\n",
      "Processing store: 42\n"
     ]
    },
    {
     "name": "stderr",
     "output_type": "stream",
     "text": [
      "C:\\Users\\B.CHANDRIKA\\anaconda4\\Lib\\site-packages\\statsmodels\\tsa\\base\\tsa_model.py:473: ValueWarning: A date index has been provided, but it has no associated frequency information and so will be ignored when e.g. forecasting.\n",
      "  self._init_dates(dates, freq)\n",
      "C:\\Users\\B.CHANDRIKA\\anaconda4\\Lib\\site-packages\\statsmodels\\tsa\\base\\tsa_model.py:473: ValueWarning: A date index has been provided, but it has no associated frequency information and so will be ignored when e.g. forecasting.\n",
      "  self._init_dates(dates, freq)\n",
      "C:\\Users\\B.CHANDRIKA\\anaconda4\\Lib\\site-packages\\statsmodels\\tsa\\base\\tsa_model.py:836: ValueWarning: No supported index is available. Prediction results will be given with an integer index beginning at `start`.\n",
      "  return get_prediction_index(\n",
      "C:\\Users\\B.CHANDRIKA\\anaconda4\\Lib\\site-packages\\statsmodels\\tsa\\base\\tsa_model.py:473: ValueWarning: A date index has been provided, but it has no associated frequency information and so will be ignored when e.g. forecasting.\n",
      "  self._init_dates(dates, freq)\n"
     ]
    },
    {
     "name": "stdout",
     "output_type": "stream",
     "text": [
      "  SARIMAX fitted and saved.\n",
      "\n",
      "Processing store: 43\n"
     ]
    },
    {
     "name": "stderr",
     "output_type": "stream",
     "text": [
      "C:\\Users\\B.CHANDRIKA\\anaconda4\\Lib\\site-packages\\statsmodels\\tsa\\base\\tsa_model.py:473: ValueWarning: A date index has been provided, but it has no associated frequency information and so will be ignored when e.g. forecasting.\n",
      "  self._init_dates(dates, freq)\n",
      "C:\\Users\\B.CHANDRIKA\\anaconda4\\Lib\\site-packages\\statsmodels\\tsa\\base\\tsa_model.py:836: ValueWarning: No supported index is available. Prediction results will be given with an integer index beginning at `start`.\n",
      "  return get_prediction_index(\n"
     ]
    },
    {
     "name": "stdout",
     "output_type": "stream",
     "text": [
      "  SARIMAX fitted and saved.\n",
      "\n",
      "Processing store: 44\n"
     ]
    },
    {
     "name": "stderr",
     "output_type": "stream",
     "text": [
      "C:\\Users\\B.CHANDRIKA\\anaconda4\\Lib\\site-packages\\statsmodels\\tsa\\base\\tsa_model.py:473: ValueWarning: A date index has been provided, but it has no associated frequency information and so will be ignored when e.g. forecasting.\n",
      "  self._init_dates(dates, freq)\n",
      "C:\\Users\\B.CHANDRIKA\\anaconda4\\Lib\\site-packages\\statsmodels\\tsa\\base\\tsa_model.py:473: ValueWarning: A date index has been provided, but it has no associated frequency information and so will be ignored when e.g. forecasting.\n",
      "  self._init_dates(dates, freq)\n",
      "C:\\Users\\B.CHANDRIKA\\anaconda4\\Lib\\site-packages\\statsmodels\\tsa\\base\\tsa_model.py:836: ValueWarning: No supported index is available. Prediction results will be given with an integer index beginning at `start`.\n",
      "  return get_prediction_index(\n",
      "C:\\Users\\B.CHANDRIKA\\anaconda4\\Lib\\site-packages\\statsmodels\\tsa\\base\\tsa_model.py:473: ValueWarning: A date index has been provided, but it has no associated frequency information and so will be ignored when e.g. forecasting.\n",
      "  self._init_dates(dates, freq)\n",
      "C:\\Users\\B.CHANDRIKA\\anaconda4\\Lib\\site-packages\\statsmodels\\tsa\\base\\tsa_model.py:473: ValueWarning: A date index has been provided, but it has no associated frequency information and so will be ignored when e.g. forecasting.\n",
      "  self._init_dates(dates, freq)\n"
     ]
    },
    {
     "name": "stdout",
     "output_type": "stream",
     "text": [
      "  SARIMAX fitted and saved.\n",
      "\n",
      "Processing store: 45\n"
     ]
    },
    {
     "name": "stderr",
     "output_type": "stream",
     "text": [
      "C:\\Users\\B.CHANDRIKA\\anaconda4\\Lib\\site-packages\\statsmodels\\tsa\\base\\tsa_model.py:836: ValueWarning: No supported index is available. Prediction results will be given with an integer index beginning at `start`.\n",
      "  return get_prediction_index(\n"
     ]
    },
    {
     "name": "stdout",
     "output_type": "stream",
     "text": [
      "  SARIMAX fitted and saved.\n"
     ]
    }
   ],
   "source": [
    "per_store_metrics = []\n",
    "\n",
    "for s in agg_stores.columns:\n",
    "    print(f\"\\nProcessing store: {s}\")\n",
    "\n",
    "    agg_s = agg_stores[[s]].rename(columns={s: \"Store_Sales\"})\n",
    "\n",
    "    exog_s = agg_s[[c for c in EXOG_COLS if c in agg_s.columns]] if any(\n",
    "        [c in agg_s.columns for c in EXOG_COLS]\n",
    "    ) else None\n",
    "\n",
    "    train_s = agg_s[\"Store_Sales\"].iloc[:-TEST_WEEKS]\n",
    "    test_idx_s = agg_s.index[-TEST_WEEKS:]\n",
    "    exog_train_s = exog_s.iloc[:-TEST_WEEKS] if exog_s is not None else None\n",
    "    exog_test_s = exog_s.iloc[-TEST_WEEKS:] if exog_s is not None else None\n",
    "\n",
    "    res_s, pred_mean_s, pred_ci_s = fit_sarimax(\n",
    "        train_s,\n",
    "        steps=TEST_WEEKS,\n",
    "        exog_train=exog_train_s,\n",
    "        exog_forecast=exog_test_s,\n",
    "        order=(1, 0, 1),\n",
    "        seasonal_order=(1, 1, 1, 52)\n",
    "    )\n",
    "\n",
    "    if res_s is not None:\n",
    "        metrics_s = evaluate(agg_s[\"Store_Sales\"].iloc[-TEST_WEEKS:].values, pred_mean_s.values)\n",
    "        per_store_metrics.append({\"store\": s, \"model\": \"sarimax\", **metrics_s})\n",
    "        joblib.dump(res_s, os.path.join(OUTPUT_DIR, f\"sarimax_store_{s}.pkl\"))\n",
    "        print(\"  SARIMAX fitted and saved.\")\n",
    "    else:\n",
    "        per_store_metrics.append({\"store\": s, \"model\": \"seasonal_naive\", **seasonal_metric})\n",
    "        print(\"  SARIMAX failed; seasonal-naive metrics used.\")"
   ]
  },
  {
   "cell_type": "code",
   "execution_count": null,
   "id": "4ac145ef-990f-4b92-99cd-c18542431139",
   "metadata": {},
   "outputs": [],
   "source": []
  }
 ],
 "metadata": {
  "kernelspec": {
   "display_name": "Python 3 (ipykernel)",
   "language": "python",
   "name": "python3"
  },
  "language_info": {
   "codemirror_mode": {
    "name": "ipython",
    "version": 3
   },
   "file_extension": ".py",
   "mimetype": "text/x-python",
   "name": "python",
   "nbconvert_exporter": "python",
   "pygments_lexer": "ipython3",
   "version": "3.12.7"
  }
 },
 "nbformat": 4,
 "nbformat_minor": 5
}
